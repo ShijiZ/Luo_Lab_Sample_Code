{
 "cells": [
  {
   "cell_type": "code",
   "execution_count": 1,
   "metadata": {},
   "outputs": [],
   "source": [
    "import numpy as np\n",
    "import pandas as pd"
   ]
  },
  {
   "cell_type": "code",
   "execution_count": 2,
   "metadata": {},
   "outputs": [],
   "source": [
    "df = pd.DataFrame(columns=['Score','Reference','Ligand'])\n",
    "basepath = '/Users/shijizhao/Documents/Lab_Luo/Data/1score_raw/'"
   ]
  },
  {
   "cell_type": "code",
   "execution_count": 4,
   "metadata": {},
   "outputs": [],
   "source": [
    "ActKR_tetp_gabe = pd.read_csv(basepath+'ActKR-tetp-gabe-score.csv')\n",
    "ActKR_tetp_gabe['Reference'] = 'Gabe'\n",
    "ActKR_tetp_gabe['Ligand'] = 'tetp'\n",
    "\n",
    "df = df.append(ActKR_tetp_gabe,sort=False,ignore_index=True)"
   ]
  },
  {
   "cell_type": "code",
   "execution_count": 5,
   "metadata": {},
   "outputs": [],
   "source": [
    "ActKR_mtetp_gabe = pd.read_csv(basepath+'ActKR-mtetp-gabe-score.csv')\n",
    "ActKR_mtetp_gabe['Reference'] = 'Gabe'\n",
    "ActKR_mtetp_gabe['Ligand'] = 'mtetp'\n",
    "\n",
    "df = df.append(ActKR_mtetp_gabe,sort=False,ignore_index=True)"
   ]
  },
  {
   "cell_type": "code",
   "execution_count": 6,
   "metadata": {},
   "outputs": [],
   "source": [
    "ActKR_tetpnop_gabe = pd.read_csv(basepath+'ActKR-tetpnop-gabe-score.csv')\n",
    "ActKR_tetpnop_gabe['Reference'] = 'Gabe'\n",
    "ActKR_tetpnop_gabe['Ligand'] = 'tetpnop'\n",
    "\n",
    "df = df.append(ActKR_tetpnop_gabe,sort=False,ignore_index=True)"
   ]
  },
  {
   "cell_type": "code",
   "execution_count": 7,
   "metadata": {},
   "outputs": [],
   "source": [
    "ActKR_mtetpnop_gabe = pd.read_csv(basepath+'ActKR-mtetpnop-gabe-score.csv')\n",
    "ActKR_mtetpnop_gabe['Reference'] = 'Gabe'\n",
    "ActKR_mtetpnop_gabe['Ligand'] = 'mtetpnop'\n",
    "\n",
    "df = df.append(ActKR_mtetpnop_gabe,sort=False,ignore_index=True)"
   ]
  },
  {
   "cell_type": "code",
   "execution_count": 8,
   "metadata": {},
   "outputs": [],
   "source": [
    "ActKR_octp_gabe = pd.read_csv(basepath+'ActKR-octp-gabe-score.csv')\n",
    "ActKR_octp_gabe['Reference'] = 'Gabe'\n",
    "ActKR_octp_gabe['Ligand'] = 'octp'\n",
    "\n",
    "df = df.append(ActKR_octp_gabe,sort=False,ignore_index=True)"
   ]
  },
  {
   "cell_type": "code",
   "execution_count": 9,
   "metadata": {},
   "outputs": [],
   "source": [
    "ActKR_moctp_gabe = pd.read_csv(basepath+'ActKR-moctp-gabe-score.csv')\n",
    "ActKR_moctp_gabe['Reference'] = 'Gabe'\n",
    "ActKR_moctp_gabe['Ligand'] = 'moctp'\n",
    "\n",
    "df = df.append(ActKR_moctp_gabe,sort=False,ignore_index=True)"
   ]
  },
  {
   "cell_type": "code",
   "execution_count": 10,
   "metadata": {},
   "outputs": [],
   "source": [
    "ActKR_octpnop_gabe = pd.read_csv(basepath+'ActKR-octpnop-gabe-score.csv')\n",
    "ActKR_octpnop_gabe['Reference'] = 'Gabe'\n",
    "ActKR_octpnop_gabe['Ligand'] = 'octpnop'\n",
    "\n",
    "df = df.append(ActKR_octpnop_gabe,sort=False,ignore_index=True)"
   ]
  },
  {
   "cell_type": "code",
   "execution_count": 11,
   "metadata": {},
   "outputs": [],
   "source": [
    "ActKR_moctpnop_gabe = pd.read_csv(basepath+'ActKR-moctpnop-gabe-score.csv')\n",
    "ActKR_moctpnop_gabe['Reference'] = 'Gabe'\n",
    "ActKR_moctpnop_gabe['Ligand'] = 'moctpnop'\n",
    "\n",
    "df = df.append(ActKR_moctpnop_gabe,sort=False,ignore_index=True)"
   ]
  },
  {
   "cell_type": "code",
   "execution_count": 12,
   "metadata": {},
   "outputs": [],
   "source": [
    "ActKR_tetp_Joel = pd.read_csv(basepath+'ActKR-tetp-Joel-score.csv')\n",
    "ActKR_tetp_Joel['Reference'] = 'Joel'\n",
    "ActKR_tetp_Joel['Ligand'] = 'tetp'\n",
    "\n",
    "df = df.append(ActKR_tetp_Joel,sort=False,ignore_index=True)"
   ]
  },
  {
   "cell_type": "code",
   "execution_count": 13,
   "metadata": {},
   "outputs": [],
   "source": [
    "ActKR_mtetp_Joel = pd.read_csv(basepath+'ActKR-mtetp-Joel-score.csv')\n",
    "ActKR_mtetp_Joel['Reference'] = 'Joel'\n",
    "ActKR_mtetp_Joel['Ligand'] = 'mtetp'\n",
    "\n",
    "df = df.append(ActKR_mtetp_Joel,sort=False,ignore_index=True)"
   ]
  },
  {
   "cell_type": "code",
   "execution_count": 14,
   "metadata": {},
   "outputs": [],
   "source": [
    "ActKR_tetpnop_Joel = pd.read_csv(basepath+'ActKR-tetpnop-Joel-score.csv')\n",
    "ActKR_tetpnop_Joel['Reference'] = 'Joel'\n",
    "ActKR_tetpnop_Joel['Ligand'] = 'tetpnop'\n",
    "\n",
    "df = df.append(ActKR_tetpnop_Joel,sort=False,ignore_index=True)"
   ]
  },
  {
   "cell_type": "code",
   "execution_count": 15,
   "metadata": {},
   "outputs": [],
   "source": [
    "ActKR_mtetpnop_Joel = pd.read_csv(basepath+'ActKR-mtetpnop-Joel-score.csv')\n",
    "ActKR_mtetpnop_Joel['Reference'] = 'Joel'\n",
    "ActKR_mtetpnop_Joel['Ligand'] = 'mtetpnop'\n",
    "\n",
    "df = df.append(ActKR_mtetpnop_Joel,sort=False,ignore_index=True)"
   ]
  },
  {
   "cell_type": "code",
   "execution_count": 16,
   "metadata": {},
   "outputs": [],
   "source": [
    "ActKR_octp_Joel = pd.read_csv(basepath+'ActKR-octp-Joel-score.csv')\n",
    "ActKR_octp_Joel['Reference'] = 'Joel'\n",
    "ActKR_octp_Joel['Ligand'] = 'octp'\n",
    "\n",
    "df = df.append(ActKR_octp_Joel,sort=False,ignore_index=True)"
   ]
  },
  {
   "cell_type": "code",
   "execution_count": 17,
   "metadata": {},
   "outputs": [],
   "source": [
    "ActKR_moctp_Joel = pd.read_csv(basepath+'ActKR-moctp-Joel-score.csv')\n",
    "ActKR_moctp_Joel['Reference'] = 'Joel'\n",
    "ActKR_moctp_Joel['Ligand'] = 'moctp'\n",
    "\n",
    "df = df.append(ActKR_moctp_Joel,sort=False,ignore_index=True)"
   ]
  },
  {
   "cell_type": "code",
   "execution_count": 18,
   "metadata": {},
   "outputs": [],
   "source": [
    "ActKR_octpnop_Joel = pd.read_csv(basepath+'ActKR-octpnop-Joel-score.csv')\n",
    "ActKR_octpnop_Joel['Reference'] = 'Joel'\n",
    "ActKR_octpnop_Joel['Ligand'] = 'octpnop'\n",
    "\n",
    "df = df.append(ActKR_octpnop_Joel,sort=False,ignore_index=True)"
   ]
  },
  {
   "cell_type": "code",
   "execution_count": 19,
   "metadata": {},
   "outputs": [],
   "source": [
    "ActKR_moctpnop_Joel = pd.read_csv(basepath+'ActKR-moctpnop-Joel-score.csv')\n",
    "ActKR_moctpnop_Joel['Reference'] = 'Joel'\n",
    "ActKR_moctpnop_Joel['Ligand'] = 'moctpnop'\n",
    "\n",
    "df = df.append(ActKR_moctpnop_Joel,sort=False,ignore_index=True)"
   ]
  },
  {
   "cell_type": "code",
   "execution_count": 20,
   "metadata": {},
   "outputs": [
    {
     "name": "stdout",
     "output_type": "stream",
     "text": [
      "Joel    24\n",
      "Gabe    24\n",
      "Name: Reference, dtype: int64\n",
      "\n",
      "mtetp       6\n",
      "moctp       6\n",
      "moctpnop    6\n",
      "octpnop     6\n",
      "tetpnop     6\n",
      "tetp        6\n",
      "mtetpnop    6\n",
      "octp        6\n",
      "Name: Ligand, dtype: int64\n"
     ]
    }
   ],
   "source": [
    "print(df['Reference'].value_counts())\n",
    "print()\n",
    "print(df['Ligand'].value_counts())"
   ]
  },
  {
   "cell_type": "code",
   "execution_count": 21,
   "metadata": {},
   "outputs": [],
   "source": [
    "df.to_csv('/Users/shijizhao/Documents/Lab_Luo/Data/2score_analysis/Score_for_analysis.csv',index=False)"
   ]
  },
  {
   "cell_type": "code",
   "execution_count": null,
   "metadata": {},
   "outputs": [],
   "source": []
  }
 ],
 "metadata": {
  "hide_input": false,
  "kernelspec": {
   "display_name": "Python 3",
   "language": "python",
   "name": "python3"
  },
  "language_info": {
   "codemirror_mode": {
    "name": "ipython",
    "version": 3
   },
   "file_extension": ".py",
   "mimetype": "text/x-python",
   "name": "python",
   "nbconvert_exporter": "python",
   "pygments_lexer": "ipython3",
   "version": "3.7.3"
  }
 },
 "nbformat": 4,
 "nbformat_minor": 2
}
