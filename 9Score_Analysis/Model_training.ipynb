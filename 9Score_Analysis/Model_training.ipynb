{
 "cells": [
  {
   "cell_type": "code",
   "execution_count": 2,
   "metadata": {},
   "outputs": [],
   "source": [
    "import pandas as pd\n",
    "import numpy as np\n",
    "import matplotlib.pyplot as plt\n",
    "import seaborn as sns\n",
    "\n",
    "sns.set_style(\"darkgrid\")"
   ]
  },
  {
   "cell_type": "code",
   "execution_count": 3,
   "metadata": {},
   "outputs": [],
   "source": [
    "df = pd.DataFrame({'Mimic':[1,1,1,1,0,0,0,0],\n",
    "                  'Polyketide':[1,1,0,0,1,1,0,0],\n",
    "                  'Pantetheine':[1,0,1,0,1,0,1,0],\n",
    "                  'Location':['Joel','Gabe','Gabe','Joel','Gabe','Gabe','Joel','Joel']})\n",
    "\n",
    "df_pred = pd.DataFrame({'Mimic':[1,1,1,1,0,0,0,0],\n",
    "                  'Polyketide':[1,1,0,0,1,1,0,0],\n",
    "                  'Pantetheine':[1,0,1,0,1,0,1,0]})\n",
    "\n",
    "# For 'Mimic', 1 = \"Mimic\", 0 = \"Natural\"\n",
    "# For 'Polyketide', 1 = \"Octaketide\", 0 = \"Tetraketide\"\n",
    "# For 'Pantetheine', 1 = \"With P\", 0 = \"without P\""
   ]
  },
  {
   "cell_type": "code",
   "execution_count": 4,
   "metadata": {},
   "outputs": [
    {
     "name": "stdout",
     "output_type": "stream",
     "text": [
      "<class 'pandas.core.frame.DataFrame'>\n",
      "RangeIndex: 8 entries, 0 to 7\n",
      "Data columns (total 4 columns):\n",
      "Mimic          8 non-null int64\n",
      "Polyketide     8 non-null int64\n",
      "Pantetheine    8 non-null int64\n",
      "Location       8 non-null object\n",
      "dtypes: int64(3), object(1)\n",
      "memory usage: 336.0+ bytes\n"
     ]
    }
   ],
   "source": [
    "df.info()"
   ]
  },
  {
   "cell_type": "code",
   "execution_count": 5,
   "metadata": {},
   "outputs": [
    {
     "data": {
      "image/png": "[encoded data removed]",
      "text/plain": [
       "<Figure size 576x432 with 1 Axes>"
      ]
     },
     "metadata": {
      "needs_background": "light"
     },
     "output_type": "display_data"
    },
    {
     "name": "stdout",
     "output_type": "stream",
     "text": [
      "Joel    4\n",
      "Gabe    4\n",
      "Name: Location, dtype: int64\n"
     ]
    }
   ],
   "source": [
    "plt.figure(figsize=(8,6))\n",
    "\n",
    "sns.set(font_scale=1.5)\n",
    "sns.barplot(df['Location'].value_counts().index, df['Location'].value_counts().values, alpha=0.9)\n",
    "plt.title('The Distribution of Binding Locations')\n",
    "plt.show()\n",
    "\n",
    "print(df['Location'].value_counts())"
   ]
  },
  {
   "cell_type": "code",
   "execution_count": 6,
   "metadata": {},
   "outputs": [],
   "source": [
    "from sklearn import model_selection\n",
    "\n",
    "loocv = model_selection.LeaveOneOut()\n",
    "\n",
    "# Specify the data\n",
    "cols = [col for col in df.columns if col not in ['Location']]\n",
    "X = df[cols]\n",
    "\n",
    "# Specify the target labels and flatten the array \n",
    "y = df['Location']\n",
    "\n",
    "X_pred = df_pred"
   ]
  },
  {
   "cell_type": "code",
   "execution_count": 7,
   "metadata": {},
   "outputs": [
    {
     "data": {
      "text/html": [
       "<div>\n",
       "<style scoped>\n",
       "    .dataframe tbody tr th:only-of-type {\n",
       "        vertical-align: middle;\n",
       "    }\n",
       "\n",
       "    .dataframe tbody tr th {\n",
       "        vertical-align: top;\n",
       "    }\n",
       "\n",
       "    .dataframe thead th {\n",
       "        text-align: right;\n",
       "    }\n",
       "</style>\n",
       "<table border=\"1\" class=\"dataframe\">\n",
       "  <thead>\n",
       "    <tr style=\"text-align: right;\">\n",
       "      <th></th>\n",
       "      <th>Mimic</th>\n",
       "      <th>Polyketide</th>\n",
       "      <th>Pantetheine</th>\n",
       "    </tr>\n",
       "  </thead>\n",
       "  <tbody>\n",
       "    <tr>\n",
       "      <th>0</th>\n",
       "      <td>1</td>\n",
       "      <td>1</td>\n",
       "      <td>1</td>\n",
       "    </tr>\n",
       "    <tr>\n",
       "      <th>1</th>\n",
       "      <td>1</td>\n",
       "      <td>1</td>\n",
       "      <td>0</td>\n",
       "    </tr>\n",
       "    <tr>\n",
       "      <th>2</th>\n",
       "      <td>1</td>\n",
       "      <td>0</td>\n",
       "      <td>1</td>\n",
       "    </tr>\n",
       "    <tr>\n",
       "      <th>3</th>\n",
       "      <td>1</td>\n",
       "      <td>0</td>\n",
       "      <td>0</td>\n",
       "    </tr>\n",
       "    <tr>\n",
       "      <th>4</th>\n",
       "      <td>0</td>\n",
       "      <td>1</td>\n",
       "      <td>1</td>\n",
       "    </tr>\n",
       "    <tr>\n",
       "      <th>5</th>\n",
       "      <td>0</td>\n",
       "      <td>1</td>\n",
       "      <td>0</td>\n",
       "    </tr>\n",
       "    <tr>\n",
       "      <th>6</th>\n",
       "      <td>0</td>\n",
       "      <td>0</td>\n",
       "      <td>1</td>\n",
       "    </tr>\n",
       "    <tr>\n",
       "      <th>7</th>\n",
       "      <td>0</td>\n",
       "      <td>0</td>\n",
       "      <td>0</td>\n",
       "    </tr>\n",
       "  </tbody>\n",
       "</table>\n",
       "</div>"
      ],
      "text/plain": [
       "   Mimic  Polyketide  Pantetheine\n",
       "0      1           1            1\n",
       "1      1           1            0\n",
       "2      1           0            1\n",
       "3      1           0            0\n",
       "4      0           1            1\n",
       "5      0           1            0\n",
       "6      0           0            1\n",
       "7      0           0            0"
      ]
     },
     "execution_count": 7,
     "metadata": {},
     "output_type": "execute_result"
    }
   ],
   "source": [
    "X"
   ]
  },
  {
   "cell_type": "code",
   "execution_count": 8,
   "metadata": {},
   "outputs": [
    {
     "data": {
      "text/plain": [
       "0    Joel\n",
       "1    Gabe\n",
       "2    Gabe\n",
       "3    Joel\n",
       "4    Gabe\n",
       "5    Gabe\n",
       "6    Joel\n",
       "7    Joel\n",
       "Name: Location, dtype: object"
      ]
     },
     "execution_count": 8,
     "metadata": {},
     "output_type": "execute_result"
    }
   ],
   "source": [
    "y"
   ]
  },
  {
   "cell_type": "markdown",
   "metadata": {},
   "source": [
    "## Decision Tree"
   ]
  },
  {
   "cell_type": "code",
   "execution_count": 9,
   "metadata": {},
   "outputs": [
    {
     "name": "stdout",
     "output_type": "stream",
     "text": [
      "LOOCV score of Decision Tree model:  0.75\n"
     ]
    }
   ],
   "source": [
    "from sklearn.tree import DecisionTreeClassifier\n",
    "\n",
    "#create an object of the type Decision Tree Classifier\n",
    "dt = DecisionTreeClassifier(max_depth=1)\n",
    "\n",
    "#train the algorithm on training data and predict using the testing data\n",
    "dt.fit(X, y)   # Since partial_fit is not supported for decision tree, we can only fit once\n",
    "\n",
    "results = model_selection.cross_val_score(dt, X, y, cv=loocv)\n",
    "\n",
    "print(\"LOOCV score of Decision Tree model: \",results.mean())"
   ]
  },
  {
   "cell_type": "code",
   "execution_count": 10,
   "metadata": {},
   "outputs": [
    {
     "name": "stdout",
     "output_type": "stream",
     "text": [
      "X_pred:\n",
      "   Mimic  Polyketide  Pantetheine\n",
      "0      1           1            1\n",
      "1      1           1            0\n",
      "2      1           0            1\n",
      "3      1           0            0\n",
      "4      0           1            1\n",
      "5      0           1            0\n",
      "6      0           0            1\n",
      "7      0           0            0\n",
      "\n",
      "y_pred:\n",
      "['Gabe' 'Gabe' 'Joel' 'Joel' 'Gabe' 'Gabe' 'Joel' 'Joel']\n",
      "\n",
      "y_proba:\n",
      "[[0.75 0.25]\n",
      " [0.75 0.25]\n",
      " [0.25 0.75]\n",
      " [0.25 0.75]\n",
      " [0.75 0.25]\n",
      " [0.75 0.25]\n",
      " [0.25 0.75]\n",
      " [0.25 0.75]]\n"
     ]
    }
   ],
   "source": [
    "y_pred = dt.predict(X_pred)\n",
    "y_proba = dt.predict_proba(X_pred)\n",
    "\n",
    "print('X_pred:')\n",
    "print(X_pred)\n",
    "print()\n",
    "print('y_pred:')\n",
    "print(y_pred)\n",
    "print()\n",
    "print('y_proba:')\n",
    "print(y_proba)"
   ]
  },
  {
   "cell_type": "code",
   "execution_count": 11,
   "metadata": {},
   "outputs": [],
   "source": [
    "import graphviz\n",
    "from sklearn.tree import export_graphviz\n",
    "dot_data = export_graphviz(dt, out_file=None,\n",
    "                           feature_names=cols,\n",
    "                           class_names=['Gabe','Joel'],\n",
    "                           label='all', impurity=False,\n",
    "                           rounded=True, filled=True,\n",
    "                           special_characters=True)  \n",
    "graph = graphviz.Source(dot_data)"
   ]
  },
  {
   "cell_type": "code",
   "execution_count": 12,
   "metadata": {},
   "outputs": [
    {
     "data": {
      "image/svg+xml": [
       "<?xml version=\"1.0\" encoding=\"UTF-8\" standalone=\"no\"?>\n",
       "<!DOCTYPE svg PUBLIC \"-//W3C//DTD SVG 1.1//EN\"\n",
       " \"http://www.w3.org/Graphics/SVG/1.1/DTD/svg11.dtd\">\n",
       "<!-- Generated by graphviz version 2.40.1 (20161225.0304)\n",
       " -->\n",
       "<!-- Title: Tree Pages: 1 -->\n",
       "<svg width=\"222pt\" height=\"165pt\"\n",
       " viewBox=\"0.00 0.00 222.00 165.00\" xmlns=\"http://www.w3.org/2000/svg\" xmlns:xlink=\"http://www.w3.org/1999/xlink\">\n",
       "<g id=\"graph0\" class=\"graph\" transform=\"scale(1 1) rotate(0) translate(4 161)\">\n",
       "<title>Tree</title>\n",
       "<polygon fill=\"#ffffff\" stroke=\"transparent\" points=\"-4,4 -4,-161 218,-161 218,4 -4,4\"/>\n",
       "<!-- 0 -->\n",
       "<g id=\"node1\" class=\"node\">\n",
       "<title>0</title>\n",
       "<path fill=\"#ffffff\" stroke=\"#000000\" d=\"M152.5,-157C152.5,-157 60.5,-157 60.5,-157 54.5,-157 48.5,-151 48.5,-145 48.5,-145 48.5,-101 48.5,-101 48.5,-95 54.5,-89 60.5,-89 60.5,-89 152.5,-89 152.5,-89 158.5,-89 164.5,-95 164.5,-101 164.5,-101 164.5,-145 164.5,-145 164.5,-151 158.5,-157 152.5,-157\"/>\n",
       "<text text-anchor=\"start\" x=\"56.5\" y=\"-141.8\" font-family=\"Helvetica,sans-Serif\" font-size=\"14.00\" fill=\"#000000\">Polyketide ≤ 0.5</text>\n",
       "<text text-anchor=\"start\" x=\"68.5\" y=\"-126.8\" font-family=\"Helvetica,sans-Serif\" font-size=\"14.00\" fill=\"#000000\">samples = 8</text>\n",
       "<text text-anchor=\"start\" x=\"66\" y=\"-111.8\" font-family=\"Helvetica,sans-Serif\" font-size=\"14.00\" fill=\"#000000\">value = [4, 4]</text>\n",
       "<text text-anchor=\"start\" x=\"65\" y=\"-96.8\" font-family=\"Helvetica,sans-Serif\" font-size=\"14.00\" fill=\"#000000\">class = Gabe</text>\n",
       "</g>\n",
       "<!-- 1 -->\n",
       "<g id=\"node2\" class=\"node\">\n",
       "<title>1</title>\n",
       "<path fill=\"#7bbeee\" stroke=\"#000000\" d=\"M85,-53C85,-53 12,-53 12,-53 6,-53 0,-47 0,-41 0,-41 0,-12 0,-12 0,-6 6,0 12,0 12,0 85,0 85,0 91,0 97,-6 97,-12 97,-12 97,-41 97,-41 97,-47 91,-53 85,-53\"/>\n",
       "<text text-anchor=\"start\" x=\"10.5\" y=\"-37.8\" font-family=\"Helvetica,sans-Serif\" font-size=\"14.00\" fill=\"#000000\">samples = 4</text>\n",
       "<text text-anchor=\"start\" x=\"8\" y=\"-22.8\" font-family=\"Helvetica,sans-Serif\" font-size=\"14.00\" fill=\"#000000\">value = [1, 3]</text>\n",
       "<text text-anchor=\"start\" x=\"11.5\" y=\"-7.8\" font-family=\"Helvetica,sans-Serif\" font-size=\"14.00\" fill=\"#000000\">class = Joel</text>\n",
       "</g>\n",
       "<!-- 0&#45;&gt;1 -->\n",
       "<g id=\"edge1\" class=\"edge\">\n",
       "<title>0&#45;&gt;1</title>\n",
       "<path fill=\"none\" stroke=\"#000000\" d=\"M86.0514,-88.9777C80.7678,-80.187 75.0684,-70.7044 69.7452,-61.8477\"/>\n",
       "<polygon fill=\"#000000\" stroke=\"#000000\" points=\"72.7282,-60.0165 64.5768,-53.2485 66.7285,-63.6225 72.7282,-60.0165\"/>\n",
       "<text text-anchor=\"middle\" x=\"58.5319\" y=\"-73.8067\" font-family=\"Helvetica,sans-Serif\" font-size=\"14.00\" fill=\"#000000\">True</text>\n",
       "</g>\n",
       "<!-- 2 -->\n",
       "<g id=\"node3\" class=\"node\">\n",
       "<title>2</title>\n",
       "<path fill=\"#eeab7b\" stroke=\"#000000\" d=\"M202,-53C202,-53 127,-53 127,-53 121,-53 115,-47 115,-41 115,-41 115,-12 115,-12 115,-6 121,0 127,0 127,0 202,0 202,0 208,0 214,-6 214,-12 214,-12 214,-41 214,-41 214,-47 208,-53 202,-53\"/>\n",
       "<text text-anchor=\"start\" x=\"126.5\" y=\"-37.8\" font-family=\"Helvetica,sans-Serif\" font-size=\"14.00\" fill=\"#000000\">samples = 4</text>\n",
       "<text text-anchor=\"start\" x=\"124\" y=\"-22.8\" font-family=\"Helvetica,sans-Serif\" font-size=\"14.00\" fill=\"#000000\">value = [3, 1]</text>\n",
       "<text text-anchor=\"start\" x=\"123\" y=\"-7.8\" font-family=\"Helvetica,sans-Serif\" font-size=\"14.00\" fill=\"#000000\">class = Gabe</text>\n",
       "</g>\n",
       "<!-- 0&#45;&gt;2 -->\n",
       "<g id=\"edge2\" class=\"edge\">\n",
       "<title>0&#45;&gt;2</title>\n",
       "<path fill=\"none\" stroke=\"#000000\" d=\"M126.9486,-88.9777C132.2322,-80.187 137.9316,-70.7044 143.2548,-61.8477\"/>\n",
       "<polygon fill=\"#000000\" stroke=\"#000000\" points=\"146.2715,-63.6225 148.4232,-53.2485 140.2718,-60.0165 146.2715,-63.6225\"/>\n",
       "<text text-anchor=\"middle\" x=\"154.4681\" y=\"-73.8067\" font-family=\"Helvetica,sans-Serif\" font-size=\"14.00\" fill=\"#000000\">False</text>\n",
       "</g>\n",
       "</g>\n",
       "</svg>\n"
      ],
      "text/plain": [
       "<graphviz.files.Source at 0x1a253640b8>"
      ]
     },
     "execution_count": 12,
     "metadata": {},
     "output_type": "execute_result"
    }
   ],
   "source": [
    "graph"
   ]
  },
  {
   "cell_type": "markdown",
   "metadata": {},
   "source": [
    "## Bernoulli Naive Bayes Model"
   ]
  },
  {
   "cell_type": "markdown",
   "metadata": {},
   "source": [
    "Note: Some of the features in our data might not be Gaussian distributed. The Gaussian Naive Bayes is an approximate estimation."
   ]
  },
  {
   "cell_type": "code",
   "execution_count": 35,
   "metadata": {},
   "outputs": [
    {
     "name": "stdout",
     "output_type": "stream",
     "text": [
      "Epoch = 0 , Accuracy = 0.75\n",
      "Epoch = 1 , Accuracy = 0.75\n",
      "Epoch = 2 , Accuracy = 0.75\n",
      "Epoch = 3 , Accuracy = 0.75\n",
      "Epoch = 4 , Accuracy = 0.75\n",
      "Epoch = 5 , Accuracy = 0.75\n",
      "Epoch = 6 , Accuracy = 0.75\n",
      "Epoch = 7 , Accuracy = 0.75\n",
      "Epoch = 8 , Accuracy = 0.75\n",
      "Epoch = 9 , Accuracy = 0.75\n",
      "The accuracy convergence against epochs: [0.75, 0.75, 0.75, 0.75, 0.75, 0.75, 0.75, 0.75, 0.75, 0.75]\n"
     ]
    }
   ],
   "source": [
    "from sklearn.naive_bayes import BernoulliNB\n",
    "\n",
    "#create an object of the type GaussianNB\n",
    "bnb = BernoulliNB()\n",
    "\n",
    "#train the algorithm on training data and predict using the testing data\n",
    "#gnb.fit(X, y)\n",
    "\n",
    "accuracy_list = []\n",
    "for epoch in range(10):\n",
    "\n",
    "    score_list = []\n",
    "    \n",
    "    for train_index, test_index in loocv.split(X):\n",
    "        X_train, X_test = X.iloc[train_index], X.iloc[test_index]\n",
    "        y_train, y_test = y[train_index], y[test_index]\n",
    "        bnb.partial_fit(X_train, y_train,classes=np.unique(y))\n",
    "        score_list.append(bnb.score(X_test,y_test))\n",
    "        #print(score_list)\n",
    "        \n",
    "    accuracy_list.append(np.mean(score_list))\n",
    "    print(\"Epoch =\",epoch,\", Accuracy =\", np.mean(score_list))\n",
    "\n",
    "print('The accuracy convergence against epochs:',accuracy_list)"
   ]
  },
  {
   "cell_type": "code",
   "execution_count": 15,
   "metadata": {},
   "outputs": [
    {
     "name": "stdout",
     "output_type": "stream",
     "text": [
      "X_pred:\n",
      "   Mimic  Polyketide  Pantetheine\n",
      "0      1           1            1\n",
      "1      1           1            0\n",
      "2      1           0            1\n",
      "3      1           0            0\n",
      "4      0           1            1\n",
      "5      0           1            0\n",
      "6      0           0            1\n",
      "7      0           0            0\n",
      "\n",
      "y_pred:\n",
      "['Gabe' 'Gabe' 'Joel' 'Joel' 'Gabe' 'Gabe' 'Joel' 'Joel']\n",
      "\n",
      "y_proba:\n",
      "[[0.74822695 0.25177305]\n",
      " [0.74822695 0.25177305]\n",
      " [0.25177305 0.74822695]\n",
      " [0.25177305 0.74822695]\n",
      " [0.74822695 0.25177305]\n",
      " [0.74822695 0.25177305]\n",
      " [0.25177305 0.74822695]\n",
      " [0.25177305 0.74822695]]\n"
     ]
    }
   ],
   "source": [
    "y_pred = bnb.predict(X_pred)\n",
    "y_proba = bnb.predict_proba(X_pred)\n",
    "\n",
    "print('X_pred:')\n",
    "print(X_pred)\n",
    "print()\n",
    "print('y_pred:')\n",
    "print(y_pred)\n",
    "print()\n",
    "print('y_proba:')\n",
    "print(y_proba)"
   ]
  },
  {
   "cell_type": "markdown",
   "metadata": {},
   "source": [
    "## Logistic Regression"
   ]
  },
  {
   "cell_type": "code",
   "execution_count": 36,
   "metadata": {},
   "outputs": [
    {
     "name": "stdout",
     "output_type": "stream",
     "text": [
      "Epoch = 0 , Accuracy = 0.625\n",
      "Epoch = 1 , Accuracy = 0.625\n",
      "Epoch = 2 , Accuracy = 0.625\n",
      "Epoch = 3 , Accuracy = 0.625\n",
      "Epoch = 4 , Accuracy = 0.625\n",
      "Epoch = 5 , Accuracy = 0.625\n",
      "Epoch = 6 , Accuracy = 0.625\n",
      "Epoch = 7 , Accuracy = 0.625\n",
      "Epoch = 8 , Accuracy = 0.625\n",
      "Epoch = 9 , Accuracy = 0.625\n",
      "The accuracy convergence against epochs: [0.625, 0.625, 0.625, 0.625, 0.625, 0.625, 0.625, 0.625, 0.625, 0.625]\n"
     ]
    }
   ],
   "source": [
    "from sklearn.linear_model import SGDClassifier\n",
    "\n",
    "#create an object of the type GaussianNB\n",
    "sgd = SGDClassifier(loss=\"log\",random_state=2,warm_start=True)\n",
    "\n",
    "#train the algorithm on training data and predict using the testing data\n",
    "#sgd.fit(X, y)\n",
    "\n",
    "accuracy_list = []\n",
    "for epoch in range(10):\n",
    "    \n",
    "    score_list = []\n",
    "    \n",
    "    for train_index, test_index in loocv.split(X):\n",
    "        X_train, X_test = X.iloc[train_index], X.iloc[test_index]\n",
    "        y_train, y_test = y[train_index], y[test_index]\n",
    "        sgd.partial_fit(X_train, y_train,classes=np.unique(y))\n",
    "        score_list.append(sgd.score(X_test,y_test))\n",
    "        #print(sgd.predict(X_test))\n",
    "        #print(y_test)\n",
    "        \n",
    "    accuracy_list.append(np.mean(score_list))\n",
    "    print(\"Epoch =\",epoch,\", Accuracy =\", np.mean(score_list))\n",
    "\n",
    "print('The accuracy convergence against epochs:',accuracy_list)"
   ]
  },
  {
   "cell_type": "code",
   "execution_count": 37,
   "metadata": {},
   "outputs": [
    {
     "name": "stdout",
     "output_type": "stream",
     "text": [
      "X_pred:\n",
      "   Mimic  Polyketide  Pantetheine\n",
      "0      1           1            1\n",
      "1      1           1            0\n",
      "2      1           0            1\n",
      "3      1           0            0\n",
      "4      0           1            1\n",
      "5      0           1            0\n",
      "6      0           0            1\n",
      "7      0           0            0\n",
      "\n",
      "y_pred:\n",
      "['Gabe' 'Gabe' 'Joel' 'Joel' 'Gabe' 'Gabe' 'Joel' 'Joel']\n",
      "\n",
      "y_proba:\n",
      "[[9.99967368e-01 3.26319267e-05]\n",
      " [9.99965082e-01 3.49181385e-05]\n",
      " [2.36222708e-02 9.76377729e-01]\n",
      " [2.21097850e-02 9.77890215e-01]\n",
      " [9.84353862e-01 1.56461379e-02]\n",
      " [9.83275979e-01 1.67240206e-02]\n",
      " [4.96687456e-05 9.99950331e-01]\n",
      " [4.64168052e-05 9.99953583e-01]]\n"
     ]
    }
   ],
   "source": [
    "y_pred = sgd.predict(X_pred)\n",
    "y_proba = sgd.predict_proba(X_pred)\n",
    "\n",
    "print('X_pred:')\n",
    "print(X_pred)\n",
    "print()\n",
    "print('y_pred:')\n",
    "print(y_pred)\n",
    "print()\n",
    "print('y_proba:')\n",
    "print(y_proba)"
   ]
  },
  {
   "cell_type": "code",
   "execution_count": null,
   "metadata": {},
   "outputs": [],
   "source": []
  },
  {
   "cell_type": "code",
   "execution_count": null,
   "metadata": {},
   "outputs": [],
   "source": []
  }
 ],
 "metadata": {
  "hide_input": false,
  "kernelspec": {
   "display_name": "Python 3",
   "language": "python",
   "name": "python3"
  },
  "language_info": {
   "codemirror_mode": {
    "name": "ipython",
    "version": 3
   },
   "file_extension": ".py",
   "mimetype": "text/x-python",
   "name": "python",
   "nbconvert_exporter": "python",
   "pygments_lexer": "ipython3",
   "version": "3.7.3"
  }
 },
 "nbformat": 4,
 "nbformat_minor": 2
}
