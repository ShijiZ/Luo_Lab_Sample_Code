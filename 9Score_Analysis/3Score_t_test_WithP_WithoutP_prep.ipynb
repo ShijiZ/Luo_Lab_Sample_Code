{
 "cells": [
  {
   "cell_type": "code",
   "execution_count": 1,
   "metadata": {},
   "outputs": [],
   "source": [
    "import numpy as np\n",
    "import pandas as pd"
   ]
  },
  {
   "cell_type": "code",
   "execution_count": 2,
   "metadata": {},
   "outputs": [],
   "source": [
    "df_oct = pd.DataFrame(columns=['Score','KR','Ligand'])\n",
    "df_tet = pd.DataFrame(columns=['Score','KR','Ligand'])\n",
    "basepath = '/Users/shijizhao/Documents/Lab_Luo/Data/data1-score-by-frame/'"
   ]
  },
  {
   "cell_type": "markdown",
   "metadata": {},
   "source": [
    "# DM-ActKR"
   ]
  },
  {
   "cell_type": "code",
   "execution_count": 3,
   "metadata": {},
   "outputs": [],
   "source": [
    "DM_ActKR_octpp = pd.read_csv(basepath+'DM-ActKR-octpp-front-score.csv')\n",
    "DM_ActKR_octpp['KR'] = 'DM-ActKR'\n",
    "DM_ActKR_octpp['Ligand'] = 'octpp'\n",
    "\n",
    "df_oct = df_oct.append(DM_ActKR_octpp,sort=False,ignore_index=True)"
   ]
  },
  {
   "cell_type": "code",
   "execution_count": 4,
   "metadata": {},
   "outputs": [],
   "source": [
    "DM_ActKR_octp = pd.read_csv(basepath+'DM-ActKR-octp-front-score.csv')\n",
    "DM_ActKR_octp['KR'] = 'DM-ActKR'\n",
    "DM_ActKR_octp['Ligand'] = 'octp'\n",
    "\n",
    "df_oct = df_oct.append(DM_ActKR_octp,sort=False,ignore_index=True)"
   ]
  },
  {
   "cell_type": "code",
   "execution_count": 5,
   "metadata": {},
   "outputs": [],
   "source": [
    "DM_ActKR_tetpp = pd.read_csv(basepath+'DM-ActKR-tetpp-back-score.csv')\n",
    "DM_ActKR_tetpp['KR'] = 'DM-ActKR'\n",
    "DM_ActKR_tetpp['Ligand'] = 'tetpp'\n",
    "\n",
    "df_tet = df_tet.append(DM_ActKR_tetpp,sort=False,ignore_index=True)"
   ]
  },
  {
   "cell_type": "code",
   "execution_count": 6,
   "metadata": {},
   "outputs": [],
   "source": [
    "DM_ActKR_tetp = pd.read_csv(basepath+'DM-ActKR-tetp-back-score.csv')\n",
    "DM_ActKR_tetp['KR'] = 'DM-ActKR'\n",
    "DM_ActKR_tetp['Ligand'] = 'tetp'\n",
    "\n",
    "df_tet = df_tet.append(DM_ActKR_tetp,sort=False,ignore_index=True)"
   ]
  },
  {
   "cell_type": "markdown",
   "metadata": {},
   "source": [
    "# WT-HedKR"
   ]
  },
  {
   "cell_type": "code",
   "execution_count": 7,
   "metadata": {},
   "outputs": [],
   "source": [
    "WT_HedKR_octpp = pd.read_csv(basepath+'WT-HedKR-octpp-front-score.csv')\n",
    "WT_HedKR_octpp['KR'] = 'WT-HedKR'\n",
    "WT_HedKR_octpp['Ligand'] = 'octpp'\n",
    "\n",
    "df_oct = df_oct.append(WT_HedKR_octpp,sort=False,ignore_index=True)"
   ]
  },
  {
   "cell_type": "code",
   "execution_count": 8,
   "metadata": {},
   "outputs": [],
   "source": [
    "WT_HedKR_octp = pd.read_csv(basepath+'WT-HedKR-octp-front-score.csv')\n",
    "WT_HedKR_octp['KR'] = 'WT-HedKR'\n",
    "WT_HedKR_octp['Ligand'] = 'octp'\n",
    "\n",
    "df_oct = df_oct.append(WT_HedKR_octp,sort=False,ignore_index=True)"
   ]
  },
  {
   "cell_type": "code",
   "execution_count": 9,
   "metadata": {},
   "outputs": [],
   "source": [
    "WT_HedKR_tetpp = pd.read_csv(basepath+'WT-HedKR-tetpp-back-score.csv')\n",
    "WT_HedKR_tetpp['KR'] = 'WT-HedKR'\n",
    "WT_HedKR_tetpp['Ligand'] = 'tetpp'\n",
    "\n",
    "df_tet = df_tet.append(WT_HedKR_tetpp,sort=False,ignore_index=True)"
   ]
  },
  {
   "cell_type": "code",
   "execution_count": 10,
   "metadata": {},
   "outputs": [],
   "source": [
    "WT_HedKR_tetp = pd.read_csv(basepath+'WT-HedKR-tetp-back-score.csv')\n",
    "WT_HedKR_tetp['KR'] = 'WT-HedKR'\n",
    "WT_HedKR_tetp['Ligand'] = 'tetp'\n",
    "\n",
    "df_tet = df_tet.append(WT_HedKR_tetp,sort=False,ignore_index=True)"
   ]
  },
  {
   "cell_type": "markdown",
   "metadata": {},
   "source": [
    "# WT-ActKR"
   ]
  },
  {
   "cell_type": "code",
   "execution_count": 11,
   "metadata": {},
   "outputs": [],
   "source": [
    "WT_ActKR_octpp = pd.read_csv(basepath+'WT-ActKR-octpp-front-score.csv')\n",
    "WT_ActKR_octpp['KR'] = 'WT-ActKR'\n",
    "WT_ActKR_octpp['Ligand'] = 'octpp'\n",
    "\n",
    "df_oct = df_oct.append(WT_ActKR_octpp,sort=False,ignore_index=True)"
   ]
  },
  {
   "cell_type": "code",
   "execution_count": 12,
   "metadata": {},
   "outputs": [],
   "source": [
    "WT_ActKR_octp = pd.read_csv(basepath+'WT-ActKR-octp-front-score.csv')\n",
    "WT_ActKR_octp['KR'] = 'WT-ActKR'\n",
    "WT_ActKR_octp['Ligand'] = 'octp'\n",
    "\n",
    "df_oct = df_oct.append(WT_ActKR_octp,sort=False,ignore_index=True)"
   ]
  },
  {
   "cell_type": "code",
   "execution_count": 13,
   "metadata": {},
   "outputs": [],
   "source": [
    "WT_ActKR_tetpp = pd.read_csv(basepath+'WT-ActKR-tetpp-back-score.csv')\n",
    "WT_ActKR_tetpp['KR'] = 'WT-ActKR'\n",
    "WT_ActKR_tetpp['Ligand'] = 'tetpp'\n",
    "\n",
    "df_tet = df_tet.append(WT_ActKR_tetpp,sort=False,ignore_index=True)"
   ]
  },
  {
   "cell_type": "code",
   "execution_count": 14,
   "metadata": {},
   "outputs": [],
   "source": [
    "WT_ActKR_tetp = pd.read_csv(basepath+'WT-ActKR-tetp-back-score.csv')\n",
    "WT_ActKR_tetp['KR'] = 'WT-ActKR'\n",
    "WT_ActKR_tetp['Ligand'] = 'tetp'\n",
    "\n",
    "df_tet = df_tet.append(WT_ActKR_tetp,sort=False,ignore_index=True)"
   ]
  },
  {
   "cell_type": "code",
   "execution_count": 15,
   "metadata": {},
   "outputs": [
    {
     "name": "stdout",
     "output_type": "stream",
     "text": [
      "WT-ActKR    600\n",
      "DM-ActKR    600\n",
      "WT-HedKR    600\n",
      "Name: KR, dtype: int64\n",
      "\n",
      "octpp    900\n",
      "octp     900\n",
      "Name: Ligand, dtype: int64\n",
      "\n",
      "WT-ActKR    600\n",
      "DM-ActKR    600\n",
      "WT-HedKR    600\n",
      "Name: KR, dtype: int64\n",
      "\n",
      "tetp     900\n",
      "tetpp    900\n",
      "Name: Ligand, dtype: int64\n"
     ]
    }
   ],
   "source": [
    "print(df_oct['KR'].value_counts())\n",
    "print()\n",
    "print(df_oct['Ligand'].value_counts())\n",
    "print()\n",
    "print(df_tet['KR'].value_counts())\n",
    "print()\n",
    "print(df_tet['Ligand'].value_counts())"
   ]
  },
  {
   "cell_type": "code",
   "execution_count": 16,
   "metadata": {},
   "outputs": [],
   "source": [
    "df_oct.to_csv('/Users/shijizhao/Documents/Lab_Luo/Data/data4-score-t-test/Score_by_frame_WithP_WithoutP_oct.csv',index=False)\n",
    "df_tet.to_csv('/Users/shijizhao/Documents/Lab_Luo/Data/data4-score-t-test/Score_by_frame_WithP_WithoutP_tet.csv',index=False)"
   ]
  },
  {
   "cell_type": "code",
   "execution_count": null,
   "metadata": {},
   "outputs": [],
   "source": []
  }
 ],
 "metadata": {
  "hide_input": false,
  "kernelspec": {
   "display_name": "Python 3",
   "language": "python",
   "name": "python3"
  },
  "language_info": {
   "codemirror_mode": {
    "name": "ipython",
    "version": 3
   },
   "file_extension": ".py",
   "mimetype": "text/x-python",
   "name": "python",
   "nbconvert_exporter": "python",
   "pygments_lexer": "ipython3",
   "version": "3.7.3"
  }
 },
 "nbformat": 4,
 "nbformat_minor": 2
}
