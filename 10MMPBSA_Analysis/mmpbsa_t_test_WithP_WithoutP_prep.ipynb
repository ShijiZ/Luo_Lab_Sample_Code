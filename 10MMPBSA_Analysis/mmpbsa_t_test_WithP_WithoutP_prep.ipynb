{
 "cells": [
  {
   "cell_type": "code",
   "execution_count": 1,
   "metadata": {},
   "outputs": [],
   "source": [
    "import numpy as np\n",
    "import pandas as pd\n",
    "\n",
    "basepath = '/Users/shijizhao/Documents/Lab_Luo/Data/data2-mmpbsa_raw/'"
   ]
  },
  {
   "cell_type": "code",
   "execution_count": 2,
   "metadata": {},
   "outputs": [],
   "source": [
    "df_PorNP_tet_total = pd.DataFrame(columns=['Total Energy','Ligand','KR'])\n",
    "df_PorNP_tet_vdw = pd.DataFrame(columns=['Packing/Hydrophobic Effect','Ligand','KR'])\n",
    "df_PorNP_tet_ele = pd.DataFrame(columns=['Electrostatic Effect','Ligand','KR'])\n",
    "\n",
    "df_PorNP_oct_total = pd.DataFrame(columns=['Total Energy','Ligand','KR'])\n",
    "df_PorNP_oct_vdw = pd.DataFrame(columns=['Packing/Hydrophobic Effect','Ligand','KR'])\n",
    "df_PorNP_oct_ele = pd.DataFrame(columns=['Electrostatic Effect','Ligand','KR'])"
   ]
  },
  {
   "cell_type": "markdown",
   "metadata": {},
   "source": [
    "# Tetraketide"
   ]
  },
  {
   "cell_type": "markdown",
   "metadata": {},
   "source": [
    "## Total Energy"
   ]
  },
  {
   "cell_type": "code",
   "execution_count": 3,
   "metadata": {},
   "outputs": [],
   "source": [
    "# DM_ActKR\n",
    "tetpp_DM_ActKR_total = pd.read_csv(basepath + 'DM-ActKR-tetpp-back-total.csv')\n",
    "tetpp_DM_ActKR_total['Ligand'] = 'tetpp'\n",
    "tetpp_DM_ActKR_total['KR'] = 'DM-ActKR'\n",
    "\n",
    "df_PorNP_tet_total = df_PorNP_tet_total.append(tetpp_DM_ActKR_total,sort=False,ignore_index=True)\n",
    "\n",
    "tetp_DM_ActKR_total = pd.read_csv(basepath + 'DM-ActKR-tetp-back-total.csv')\n",
    "tetp_DM_ActKR_total['Ligand'] = 'tetp'\n",
    "tetp_DM_ActKR_total['KR'] = 'DM-ActKR'\n",
    "\n",
    "df_PorNP_tet_total = df_PorNP_tet_total.append(tetp_DM_ActKR_total,sort=False,ignore_index=True)\n",
    "\n",
    "\n",
    "# WT_HedKR\n",
    "tetpp_WT_HedKR_total = pd.read_csv(basepath + 'WT-HedKR-tetpp-back-total.csv')\n",
    "tetpp_WT_HedKR_total['Ligand'] = 'tetpp'\n",
    "tetpp_WT_HedKR_total['KR'] = 'WT-HedKR'\n",
    "\n",
    "df_PorNP_tet_total = df_PorNP_tet_total.append(tetpp_WT_HedKR_total,sort=False,ignore_index=True)\n",
    "\n",
    "tetp_WT_HedKR_total = pd.read_csv(basepath + 'WT-HedKR-tetp-back-total.csv')\n",
    "tetp_WT_HedKR_total['Ligand'] = 'tetp'\n",
    "tetp_WT_HedKR_total['KR'] = 'WT-HedKR'\n",
    "\n",
    "df_PorNP_tet_total = df_PorNP_tet_total.append(tetp_WT_HedKR_total,sort=False,ignore_index=True)\n",
    "\n",
    "\n",
    "# WT_ActKR\n",
    "tetpp_WT_ActKR_total = pd.read_csv(basepath + 'WT-ActKR-tetpp-back-total.csv')\n",
    "tetpp_WT_ActKR_total['Ligand'] = 'tetpp'\n",
    "tetpp_WT_ActKR_total['KR'] = 'WT-ActKR'\n",
    "\n",
    "df_PorNP_tet_total = df_PorNP_tet_total.append(tetpp_WT_ActKR_total,sort=False,ignore_index=True)\n",
    "\n",
    "tetp_WT_ActKR_total = pd.read_csv(basepath + 'WT-ActKR-tetp-back-total.csv')\n",
    "tetp_WT_ActKR_total['Ligand'] = 'tetp'\n",
    "tetp_WT_ActKR_total['KR'] = 'WT-ActKR'\n",
    "\n",
    "df_PorNP_tet_total = df_PorNP_tet_total.append(tetp_WT_ActKR_total,sort=False,ignore_index=True)"
   ]
  },
  {
   "cell_type": "markdown",
   "metadata": {},
   "source": [
    "## Packing/Hydrophobic Effect"
   ]
  },
  {
   "cell_type": "code",
   "execution_count": 4,
   "metadata": {},
   "outputs": [],
   "source": [
    "# DM_ActKR\n",
    "tetpp_DM_ActKR_vdw = pd.read_csv(basepath + 'DM-ActKR-tetpp-back-vdw.csv')\n",
    "tetpp_DM_ActKR_vdw['Ligand'] = 'tetpp'\n",
    "tetpp_DM_ActKR_vdw['KR'] = 'DM-ActKR'\n",
    "\n",
    "df_PorNP_tet_vdw = df_PorNP_tet_vdw.append(tetpp_DM_ActKR_vdw,sort=False,ignore_index=True)\n",
    "\n",
    "tetp_DM_ActKR_vdw = pd.read_csv(basepath + 'DM-ActKR-tetp-back-vdw.csv')\n",
    "tetp_DM_ActKR_vdw['Ligand'] = 'tetp'\n",
    "tetp_DM_ActKR_vdw['KR'] = 'DM-ActKR'\n",
    "\n",
    "df_PorNP_tet_vdw = df_PorNP_tet_vdw.append(tetp_DM_ActKR_vdw,sort=False,ignore_index=True)\n",
    "\n",
    "\n",
    "# WT_HedKR\n",
    "tetpp_WT_HedKR_vdw = pd.read_csv(basepath + 'WT-HedKR-tetpp-back-vdw.csv')\n",
    "tetpp_WT_HedKR_vdw['Ligand'] = 'tetpp'\n",
    "tetpp_WT_HedKR_vdw['KR'] = 'WT-HedKR'\n",
    "\n",
    "df_PorNP_tet_vdw = df_PorNP_tet_vdw.append(tetpp_WT_HedKR_vdw,sort=False,ignore_index=True)\n",
    "\n",
    "tetp_WT_HedKR_vdw = pd.read_csv(basepath + 'WT-HedKR-tetp-back-vdw.csv')\n",
    "tetp_WT_HedKR_vdw['Ligand'] = 'tetp'\n",
    "tetp_WT_HedKR_vdw['KR'] = 'WT-HedKR'\n",
    "\n",
    "df_PorNP_tet_vdw = df_PorNP_tet_vdw.append(tetp_WT_HedKR_vdw,sort=False,ignore_index=True)\n",
    "\n",
    "\n",
    "# WT_ActKR\n",
    "tetpp_WT_ActKR_vdw = pd.read_csv(basepath + 'WT-ActKR-tetpp-back-vdw.csv')\n",
    "tetpp_WT_ActKR_vdw['Ligand'] = 'tetpp'\n",
    "tetpp_WT_ActKR_vdw['KR'] = 'WT-ActKR'\n",
    "\n",
    "df_PorNP_tet_vdw = df_PorNP_tet_vdw.append(tetpp_WT_ActKR_vdw,sort=False,ignore_index=True)\n",
    "\n",
    "tetp_WT_ActKR_vdw = pd.read_csv(basepath + 'WT-ActKR-tetp-back-vdw.csv')\n",
    "tetp_WT_ActKR_vdw['Ligand'] = 'tetp'\n",
    "tetp_WT_ActKR_vdw['KR'] = 'WT-ActKR'\n",
    "\n",
    "df_PorNP_tet_vdw = df_PorNP_tet_vdw.append(tetp_WT_ActKR_vdw,sort=False,ignore_index=True)"
   ]
  },
  {
   "cell_type": "markdown",
   "metadata": {},
   "source": [
    "## Electrostatic Effect"
   ]
  },
  {
   "cell_type": "code",
   "execution_count": 5,
   "metadata": {},
   "outputs": [],
   "source": [
    "# DM_ActKR\n",
    "tetpp_DM_ActKR_ele = pd.read_csv(basepath + 'DM-ActKR-tetpp-back-ele.csv')\n",
    "tetpp_DM_ActKR_ele['Ligand'] = 'tetpp'\n",
    "tetpp_DM_ActKR_ele['KR'] = 'DM-ActKR'\n",
    "\n",
    "df_PorNP_tet_ele = df_PorNP_tet_ele.append(tetpp_DM_ActKR_ele,sort=False,ignore_index=True)\n",
    "\n",
    "tetp_DM_ActKR_ele = pd.read_csv(basepath + 'DM-ActKR-tetp-back-ele.csv')\n",
    "tetp_DM_ActKR_ele['Ligand'] = 'tetp'\n",
    "tetp_DM_ActKR_ele['KR'] = 'DM-ActKR'\n",
    "\n",
    "df_PorNP_tet_ele = df_PorNP_tet_ele.append(tetp_DM_ActKR_ele,sort=False,ignore_index=True)\n",
    "\n",
    "# WT_HedKR\n",
    "tetpp_WT_HedKR_ele = pd.read_csv(basepath + 'WT-HedKR-tetpp-back-ele.csv')\n",
    "tetpp_WT_HedKR_ele['Ligand'] = 'tetpp'\n",
    "tetpp_WT_HedKR_ele['KR'] = 'WT-HedKR'\n",
    "\n",
    "df_PorNP_tet_ele = df_PorNP_tet_ele.append(tetpp_WT_HedKR_ele,sort=False,ignore_index=True)\n",
    "\n",
    "tetp_WT_HedKR_ele = pd.read_csv(basepath + 'WT-HedKR-tetp-back-ele.csv')\n",
    "tetp_WT_HedKR_ele['Ligand'] = 'tetp'\n",
    "tetp_WT_HedKR_ele['KR'] = 'WT-HedKR'\n",
    "\n",
    "df_PorNP_tet_ele = df_PorNP_tet_ele.append(tetp_WT_HedKR_ele,sort=False,ignore_index=True)\n",
    "\n",
    "\n",
    "# WT_ActKR\n",
    "tetpp_WT_ActKR_ele = pd.read_csv(basepath + 'WT-ActKR-tetpp-back-ele.csv')\n",
    "tetpp_WT_ActKR_ele['Ligand'] = 'tetpp'\n",
    "tetpp_WT_ActKR_ele['KR'] = 'WT-ActKR'\n",
    "\n",
    "df_PorNP_tet_ele = df_PorNP_tet_ele.append(tetpp_WT_ActKR_ele,sort=False,ignore_index=True)\n",
    "\n",
    "tetp_WT_ActKR_ele = pd.read_csv(basepath + 'WT-ActKR-tetp-back-ele.csv')\n",
    "tetp_WT_ActKR_ele['Ligand'] = 'tetp'\n",
    "tetp_WT_ActKR_ele['KR'] = 'WT-ActKR'\n",
    "\n",
    "df_PorNP_tet_ele = df_PorNP_tet_ele.append(tetp_WT_ActKR_ele,sort=False,ignore_index=True)"
   ]
  },
  {
   "cell_type": "code",
   "execution_count": 6,
   "metadata": {},
   "outputs": [
    {
     "name": "stdout",
     "output_type": "stream",
     "text": [
      "tetpp    300\n",
      "tetp     300\n",
      "Name: Ligand, dtype: int64\n",
      "\n",
      "WT-ActKR    200\n",
      "DM-ActKR    200\n",
      "WT-HedKR    200\n",
      "Name: KR, dtype: int64\n"
     ]
    }
   ],
   "source": [
    "print(df_PorNP_tet_total['Ligand'].value_counts())\n",
    "print()\n",
    "print(df_PorNP_tet_total['KR'].value_counts())"
   ]
  },
  {
   "cell_type": "code",
   "execution_count": 7,
   "metadata": {},
   "outputs": [
    {
     "name": "stdout",
     "output_type": "stream",
     "text": [
      "tetpp    300\n",
      "tetp     300\n",
      "Name: Ligand, dtype: int64\n",
      "\n",
      "WT-ActKR    200\n",
      "DM-ActKR    200\n",
      "WT-HedKR    200\n",
      "Name: KR, dtype: int64\n"
     ]
    }
   ],
   "source": [
    "print(df_PorNP_tet_ele['Ligand'].value_counts())\n",
    "print()\n",
    "print(df_PorNP_tet_ele['KR'].value_counts())"
   ]
  },
  {
   "cell_type": "code",
   "execution_count": 8,
   "metadata": {},
   "outputs": [
    {
     "name": "stdout",
     "output_type": "stream",
     "text": [
      "tetpp    300\n",
      "tetp     300\n",
      "Name: Ligand, dtype: int64\n",
      "\n",
      "WT-ActKR    200\n",
      "DM-ActKR    200\n",
      "WT-HedKR    200\n",
      "Name: KR, dtype: int64\n"
     ]
    }
   ],
   "source": [
    "print(df_PorNP_tet_vdw['Ligand'].value_counts())\n",
    "print()\n",
    "print(df_PorNP_tet_vdw['KR'].value_counts())"
   ]
  },
  {
   "cell_type": "code",
   "execution_count": 9,
   "metadata": {},
   "outputs": [],
   "source": [
    "df_PorNP_tet_total = df_PorNP_tet_total.rename(columns={'Total Energy':\"Total_Energy\"})\n",
    "df_PorNP_tet_vdw = df_PorNP_tet_vdw.rename(columns={\"Packing/Hydrophobic Effect\":\"Packing_Hydrophobic_Effect\"})\n",
    "df_PorNP_tet_ele = df_PorNP_tet_ele.rename(columns={\"Electrostatic Effect\":\"Electrostatic_Effect\"})"
   ]
  },
  {
   "cell_type": "code",
   "execution_count": 10,
   "metadata": {},
   "outputs": [],
   "source": [
    "basepath2 = '/Users/shijizhao/Documents/Lab_Luo/Data/data5-mmpbsa-t-test/'\n",
    "\n",
    "df_PorNP_tet_total.to_csv(basepath2+'mmpbsa_PorNP_tet_total.csv',index=False)\n",
    "df_PorNP_tet_vdw.to_csv(basepath2+'mmpbsa_PorNP_tet_vdw.csv',index=False)\n",
    "df_PorNP_tet_ele.to_csv(basepath2+'mmpbsa_PorNP_tet_ele.csv',index=False)"
   ]
  },
  {
   "cell_type": "markdown",
   "metadata": {},
   "source": [
    "# Octaketide"
   ]
  },
  {
   "cell_type": "markdown",
   "metadata": {},
   "source": [
    "## Total Energy"
   ]
  },
  {
   "cell_type": "code",
   "execution_count": 11,
   "metadata": {},
   "outputs": [],
   "source": [
    "# DM_ActKR\n",
    "octpp_DM_ActKR_total = pd.read_csv(basepath + 'DM-ActKR-octpp-front-total.csv')\n",
    "octpp_DM_ActKR_total['Ligand'] = 'octpp'\n",
    "octpp_DM_ActKR_total['KR'] = 'DM-ActKR'\n",
    "\n",
    "df_PorNP_oct_total = df_PorNP_oct_total.append(octpp_DM_ActKR_total,sort=False,ignore_index=True)\n",
    "\n",
    "octp_DM_ActKR_total = pd.read_csv(basepath + 'DM-ActKR-octp-front-total.csv')\n",
    "octp_DM_ActKR_total['Ligand'] = 'octp'\n",
    "octp_DM_ActKR_total['KR'] = 'DM-ActKR'\n",
    "\n",
    "df_PorNP_oct_total = df_PorNP_oct_total.append(octp_DM_ActKR_total,sort=False,ignore_index=True)\n",
    "\n",
    "\n",
    "# WT_HedKR\n",
    "octpp_WT_HedKR_total = pd.read_csv(basepath + 'WT-HedKR-octpp-front-total.csv')\n",
    "octpp_WT_HedKR_total['Ligand'] = 'octpp'\n",
    "octpp_WT_HedKR_total['KR'] = 'WT-HedKR'\n",
    "\n",
    "df_PorNP_oct_total = df_PorNP_oct_total.append(octpp_WT_HedKR_total,sort=False,ignore_index=True)\n",
    "\n",
    "octp_WT_HedKR_total = pd.read_csv(basepath + 'WT-HedKR-octp-front-total.csv')\n",
    "octp_WT_HedKR_total['Ligand'] = 'octp'\n",
    "octp_WT_HedKR_total['KR'] = 'WT-HedKR'\n",
    "\n",
    "df_PorNP_oct_total = df_PorNP_oct_total.append(octp_WT_HedKR_total,sort=False,ignore_index=True)\n",
    "\n",
    "\n",
    "# WT_ActKR\n",
    "octpp_WT_ActKR_total = pd.read_csv(basepath + 'WT-ActKR-octpp-front-total.csv')\n",
    "octpp_WT_ActKR_total['Ligand'] = 'octpp'\n",
    "octpp_WT_ActKR_total['KR'] = 'WT-ActKR'\n",
    "\n",
    "df_PorNP_oct_total = df_PorNP_oct_total.append(octpp_WT_ActKR_total,sort=False,ignore_index=True)\n",
    "\n",
    "octp_WT_ActKR_total = pd.read_csv(basepath + 'WT-ActKR-octp-front-total.csv')\n",
    "octp_WT_ActKR_total['Ligand'] = 'octp'\n",
    "octp_WT_ActKR_total['KR'] = 'WT-ActKR'\n",
    "\n",
    "df_PorNP_oct_total = df_PorNP_oct_total.append(octp_WT_ActKR_total,sort=False,ignore_index=True)"
   ]
  },
  {
   "cell_type": "markdown",
   "metadata": {},
   "source": [
    "## Packing/Hydrophobic Effect"
   ]
  },
  {
   "cell_type": "code",
   "execution_count": 12,
   "metadata": {},
   "outputs": [],
   "source": [
    "# DM_ActKR\n",
    "octpp_DM_ActKR_vdw = pd.read_csv(basepath + 'DM-ActKR-octpp-front-vdw.csv')\n",
    "octpp_DM_ActKR_vdw['Ligand'] = 'octpp'\n",
    "octpp_DM_ActKR_vdw['KR'] = 'DM-ActKR'\n",
    "\n",
    "df_PorNP_oct_vdw = df_PorNP_oct_vdw.append(octpp_DM_ActKR_vdw,sort=False,ignore_index=True)\n",
    "\n",
    "octp_DM_ActKR_vdw = pd.read_csv(basepath + 'DM-ActKR-octp-front-vdw.csv')\n",
    "octp_DM_ActKR_vdw['Ligand'] = 'octp'\n",
    "octp_DM_ActKR_vdw['KR'] = 'DM-ActKR'\n",
    "\n",
    "df_PorNP_oct_vdw = df_PorNP_oct_vdw.append(octp_DM_ActKR_vdw,sort=False,ignore_index=True)\n",
    "\n",
    "\n",
    "# WT_HedKR\n",
    "octpp_WT_HedKR_vdw = pd.read_csv(basepath + 'WT-HedKR-octpp-front-vdw.csv')\n",
    "octpp_WT_HedKR_vdw['Ligand'] = 'octpp'\n",
    "octpp_WT_HedKR_vdw['KR'] = 'WT-HedKR'\n",
    "\n",
    "df_PorNP_oct_vdw = df_PorNP_oct_vdw.append(octpp_WT_HedKR_vdw,sort=False,ignore_index=True)\n",
    "\n",
    "octp_WT_HedKR_vdw = pd.read_csv(basepath + 'WT-HedKR-octp-front-vdw.csv')\n",
    "octp_WT_HedKR_vdw['Ligand'] = 'octp'\n",
    "octp_WT_HedKR_vdw['KR'] = 'WT-HedKR'\n",
    "\n",
    "df_PorNP_oct_vdw = df_PorNP_oct_vdw.append(octp_WT_HedKR_vdw,sort=False,ignore_index=True)\n",
    "\n",
    "\n",
    "# WT_ActKR\n",
    "octpp_WT_ActKR_vdw = pd.read_csv(basepath + 'WT-ActKR-octpp-front-vdw.csv')\n",
    "octpp_WT_ActKR_vdw['Ligand'] = 'octpp'\n",
    "octpp_WT_ActKR_vdw['KR'] = 'WT-ActKR'\n",
    "\n",
    "df_PorNP_oct_vdw = df_PorNP_oct_vdw.append(octpp_WT_ActKR_vdw,sort=False,ignore_index=True)\n",
    "\n",
    "octp_WT_ActKR_vdw = pd.read_csv(basepath + 'WT-ActKR-octp-front-vdw.csv')\n",
    "octp_WT_ActKR_vdw['Ligand'] = 'octp'\n",
    "octp_WT_ActKR_vdw['KR'] = 'WT-ActKR'\n",
    "\n",
    "df_PorNP_oct_vdw = df_PorNP_oct_vdw.append(octp_WT_ActKR_vdw,sort=False,ignore_index=True)"
   ]
  },
  {
   "cell_type": "markdown",
   "metadata": {},
   "source": [
    "## Electrostatic Effect"
   ]
  },
  {
   "cell_type": "code",
   "execution_count": 13,
   "metadata": {},
   "outputs": [],
   "source": [
    "# DM_ActKR\n",
    "octpp_DM_ActKR_ele = pd.read_csv(basepath + 'DM-ActKR-octpp-front-ele.csv')\n",
    "octpp_DM_ActKR_ele['Ligand'] = 'octpp'\n",
    "octpp_DM_ActKR_ele['KR'] = 'DM-ActKR'\n",
    "\n",
    "df_PorNP_oct_ele = df_PorNP_oct_ele.append(octpp_DM_ActKR_ele,sort=False,ignore_index=True)\n",
    "\n",
    "octp_DM_ActKR_ele = pd.read_csv(basepath + 'DM-ActKR-octp-front-ele.csv')\n",
    "octp_DM_ActKR_ele['Ligand'] = 'octp'\n",
    "octp_DM_ActKR_ele['KR'] = 'DM-ActKR'\n",
    "\n",
    "df_PorNP_oct_ele = df_PorNP_oct_ele.append(octp_DM_ActKR_ele,sort=False,ignore_index=True)\n",
    "\n",
    "\n",
    "# WT_HedKR\n",
    "octpp_WT_HedKR_ele = pd.read_csv(basepath + 'WT-HedKR-octpp-front-ele.csv')\n",
    "octpp_WT_HedKR_ele['Ligand'] = 'octpp'\n",
    "octpp_WT_HedKR_ele['KR'] = 'WT-HedKR'\n",
    "\n",
    "df_PorNP_oct_ele = df_PorNP_oct_ele.append(octpp_WT_HedKR_ele,sort=False,ignore_index=True)\n",
    "\n",
    "octp_WT_HedKR_ele = pd.read_csv(basepath + 'WT-HedKR-octp-front-ele.csv')\n",
    "octp_WT_HedKR_ele['Ligand'] = 'octp'\n",
    "octp_WT_HedKR_ele['KR'] = 'WT-HedKR'\n",
    "\n",
    "df_PorNP_oct_ele = df_PorNP_oct_ele.append(octp_WT_HedKR_ele,sort=False,ignore_index=True)\n",
    "\n",
    "\n",
    "# WT_ActKR\n",
    "octpp_WT_ActKR_ele = pd.read_csv(basepath + 'WT-ActKR-octpp-front-ele.csv')\n",
    "octpp_WT_ActKR_ele['Ligand'] = 'octpp'\n",
    "octpp_WT_ActKR_ele['KR'] = 'WT-ActKR'\n",
    "\n",
    "df_PorNP_oct_ele = df_PorNP_oct_ele.append(octpp_WT_ActKR_ele,sort=False,ignore_index=True)\n",
    "\n",
    "octp_WT_ActKR_ele = pd.read_csv(basepath + 'WT-ActKR-octp-front-ele.csv')\n",
    "octp_WT_ActKR_ele['Ligand'] = 'octp'\n",
    "octp_WT_ActKR_ele['KR'] = 'WT-ActKR'\n",
    "\n",
    "df_PorNP_oct_ele = df_PorNP_oct_ele.append(octp_WT_ActKR_ele,sort=False,ignore_index=True)"
   ]
  },
  {
   "cell_type": "code",
   "execution_count": 14,
   "metadata": {},
   "outputs": [
    {
     "name": "stdout",
     "output_type": "stream",
     "text": [
      "octpp    300\n",
      "octp     300\n",
      "Name: Ligand, dtype: int64\n",
      "\n",
      "WT-ActKR    200\n",
      "DM-ActKR    200\n",
      "WT-HedKR    200\n",
      "Name: KR, dtype: int64\n"
     ]
    }
   ],
   "source": [
    "print(df_PorNP_oct_total['Ligand'].value_counts())\n",
    "print()\n",
    "print(df_PorNP_oct_total['KR'].value_counts())"
   ]
  },
  {
   "cell_type": "code",
   "execution_count": 15,
   "metadata": {},
   "outputs": [
    {
     "name": "stdout",
     "output_type": "stream",
     "text": [
      "octpp    300\n",
      "octp     300\n",
      "Name: Ligand, dtype: int64\n",
      "\n",
      "WT-ActKR    200\n",
      "DM-ActKR    200\n",
      "WT-HedKR    200\n",
      "Name: KR, dtype: int64\n"
     ]
    }
   ],
   "source": [
    "print(df_PorNP_oct_ele['Ligand'].value_counts())\n",
    "print()\n",
    "print(df_PorNP_oct_ele['KR'].value_counts())"
   ]
  },
  {
   "cell_type": "code",
   "execution_count": 16,
   "metadata": {},
   "outputs": [
    {
     "name": "stdout",
     "output_type": "stream",
     "text": [
      "octpp    300\n",
      "octp     300\n",
      "Name: Ligand, dtype: int64\n",
      "\n",
      "WT-ActKR    200\n",
      "DM-ActKR    200\n",
      "WT-HedKR    200\n",
      "Name: KR, dtype: int64\n"
     ]
    }
   ],
   "source": [
    "print(df_PorNP_oct_vdw['Ligand'].value_counts())\n",
    "print()\n",
    "print(df_PorNP_oct_vdw['KR'].value_counts())"
   ]
  },
  {
   "cell_type": "code",
   "execution_count": 17,
   "metadata": {},
   "outputs": [],
   "source": [
    "df_PorNP_oct_total = df_PorNP_oct_total.rename(columns={'Total Energy':\"Total_Energy\"})\n",
    "df_PorNP_oct_vdw = df_PorNP_oct_vdw.rename(columns={\"Packing/Hydrophobic Effect\":\"Packing_Hydrophobic_Effect\"})\n",
    "df_PorNP_oct_ele = df_PorNP_oct_ele.rename(columns={\"Electrostatic Effect\":\"Electrostatic_Effect\"})"
   ]
  },
  {
   "cell_type": "code",
   "execution_count": 18,
   "metadata": {},
   "outputs": [],
   "source": [
    "basepath2 = '/Users/shijizhao/Documents/Lab_Luo/Data/data5-mmpbsa-t-test/'\n",
    "\n",
    "df_PorNP_oct_total.to_csv(basepath2+'mmpbsa_PorNP_oct_total.csv',index=False)\n",
    "df_PorNP_oct_vdw.to_csv(basepath2+'mmpbsa_PorNP_oct_vdw.csv',index=False)\n",
    "df_PorNP_oct_ele.to_csv(basepath2+'mmpbsa_PorNP_oct_ele.csv',index=False)"
   ]
  },
  {
   "cell_type": "code",
   "execution_count": null,
   "metadata": {},
   "outputs": [],
   "source": []
  }
 ],
 "metadata": {
  "hide_input": false,
  "kernelspec": {
   "display_name": "Python 3",
   "language": "python",
   "name": "python3"
  },
  "language_info": {
   "codemirror_mode": {
    "name": "ipython",
    "version": 3
   },
   "file_extension": ".py",
   "mimetype": "text/x-python",
   "name": "python",
   "nbconvert_exporter": "python",
   "pygments_lexer": "ipython3",
   "version": "3.7.3"
  }
 },
 "nbformat": 4,
 "nbformat_minor": 2
}
