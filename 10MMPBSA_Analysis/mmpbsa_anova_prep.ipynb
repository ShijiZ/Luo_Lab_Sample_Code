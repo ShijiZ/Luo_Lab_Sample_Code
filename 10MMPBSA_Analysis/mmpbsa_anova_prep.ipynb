{
 "cells": [
  {
   "cell_type": "code",
   "execution_count": 1,
   "metadata": {},
   "outputs": [],
   "source": [
    "import numpy as np\n",
    "import pandas as pd\n",
    "\n",
    "basepath = '/Users/shijizhao/Documents/Lab_Luo/Data/data2-mmpbsa_raw/'"
   ]
  },
  {
   "cell_type": "code",
   "execution_count": 2,
   "metadata": {},
   "outputs": [],
   "source": [
    "# Data frames for anova\n",
    "df_Act_P1 = pd.DataFrame(columns=['DELTA TOTAL','Pantetheine','Polyketide','Mimic'])\n",
    "df_Act_P2 = pd.DataFrame(columns=['DELTA TOTAL','Pantetheine','Polyketide','Mimic'])\n",
    "df_Act_vdw = pd.DataFrame(columns=['VDWAALS','Pantetheine','Polyketide','Mimic'])\n",
    "\n",
    "df_Hed_P1 = pd.DataFrame(columns=['DELTA TOTAL','Pantetheine','Polyketide','Mimic'])\n",
    "df_Hed_P2 = pd.DataFrame(columns=['DELTA TOTAL','Pantetheine','Polyketide','Mimic'])\n",
    "df_Hed_vdw = pd.DataFrame(columns=['VDWAALS','Pantetheine','Polyketide','Mimic'])"
   ]
  },
  {
   "cell_type": "markdown",
   "metadata": {},
   "source": [
    "## Data frames for ANOVA"
   ]
  },
  {
   "cell_type": "markdown",
   "metadata": {},
   "source": [
    "### mtetp"
   ]
  },
  {
   "cell_type": "code",
   "execution_count": 3,
   "metadata": {},
   "outputs": [],
   "source": [
    "mtetp_Act_P1 = pd.read_csv(basepath + 'ActKR-mtetp-joel-parameter1.csv')\n",
    "mtetp_Act_P1['Pantetheine'] = 'With P'\n",
    "mtetp_Act_P1['Polyketide'] = 'Tetraketide'\n",
    "mtetp_Act_P1['Mimic'] = 'Mimic'\n",
    "\n",
    "df_Act_P1 = df_Act_P1.append(mtetp_Act_P1,sort=False,ignore_index=True)\n",
    "\n",
    "mtetp_Act_P2 = pd.read_csv(basepath + 'ActKR-mtetp-joel-parameter2.csv')\n",
    "mtetp_Act_P2['Pantetheine'] = 'With P'\n",
    "mtetp_Act_P2['Polyketide'] = 'Tetraketide'\n",
    "mtetp_Act_P2['Mimic'] = 'Mimic'\n",
    "\n",
    "df_Act_P2 = df_Act_P2.append(mtetp_Act_P2,sort=False,ignore_index=True)\n",
    "\n",
    "mtetp_Act_vdw = pd.read_csv(basepath + 'ActKR-mtetp-joel-vdw.csv')\n",
    "mtetp_Act_vdw['Pantetheine'] = 'With P'\n",
    "mtetp_Act_vdw['Polyketide'] = 'Tetraketide'\n",
    "mtetp_Act_vdw['Mimic'] = 'Mimic'\n",
    "\n",
    "df_Act_vdw = df_Act_vdw.append(mtetp_Act_vdw,sort=False,ignore_index=True)"
   ]
  },
  {
   "cell_type": "code",
   "execution_count": 4,
   "metadata": {},
   "outputs": [],
   "source": [
    "mtetp_Hed_P1 = pd.read_csv(basepath + 'HedKR-mtetp-joel-parameter1.csv')\n",
    "mtetp_Hed_P1['Pantetheine'] = 'With P'\n",
    "mtetp_Hed_P1['Polyketide'] = 'Tetraketide'\n",
    "mtetp_Hed_P1['Mimic'] = 'Mimic'\n",
    "\n",
    "df_Hed_P1 = df_Hed_P1.append(mtetp_Hed_P1,sort=False,ignore_index=True)\n",
    "\n",
    "mtetp_Hed_P2 = pd.read_csv(basepath + 'HedKR-mtetp-joel-parameter2.csv')\n",
    "mtetp_Hed_P2['Pantetheine'] = 'With P'\n",
    "mtetp_Hed_P2['Polyketide'] = 'Tetraketide'\n",
    "mtetp_Hed_P2['Mimic'] = 'Mimic'\n",
    "\n",
    "df_Hed_P2 = df_Hed_P2.append(mtetp_Hed_P2,sort=False,ignore_index=True)\n",
    "\n",
    "mtetp_Hed_vdw = pd.read_csv(basepath + 'HedKR-mtetp-joel-vdw.csv')\n",
    "mtetp_Hed_vdw['Pantetheine'] = 'With P'\n",
    "mtetp_Hed_vdw['Polyketide'] = 'Tetraketide'\n",
    "mtetp_Hed_vdw['Mimic'] = 'Mimic'\n",
    "\n",
    "df_Hed_vdw = df_Hed_vdw.append(mtetp_Hed_vdw,sort=False,ignore_index=True)"
   ]
  },
  {
   "cell_type": "markdown",
   "metadata": {},
   "source": [
    "### tetp"
   ]
  },
  {
   "cell_type": "code",
   "execution_count": 5,
   "metadata": {},
   "outputs": [],
   "source": [
    "tetp_Act_P1 = pd.read_csv(basepath + 'ActKR-tetp-joel-parameter1.csv')\n",
    "tetp_Act_P1['Pantetheine'] = 'With P'\n",
    "tetp_Act_P1['Polyketide'] = 'Tetraketide'\n",
    "tetp_Act_P1['Mimic'] = 'Natural'\n",
    "\n",
    "df_Act_P1 = df_Act_P1.append(tetp_Act_P1,sort=False,ignore_index=True)\n",
    "\n",
    "tetp_Act_P2 = pd.read_csv(basepath + 'ActKR-tetp-joel-parameter2.csv')\n",
    "tetp_Act_P2['Pantetheine'] = 'With P'\n",
    "tetp_Act_P2['Polyketide'] = 'Tetraketide'\n",
    "tetp_Act_P2['Mimic'] = 'Natural'\n",
    "\n",
    "df_Act_P2 = df_Act_P2.append(tetp_Act_P2,sort=False,ignore_index=True)\n",
    "\n",
    "tetp_Act_vdw = pd.read_csv(basepath + 'ActKR-tetp-joel-vdw.csv')\n",
    "tetp_Act_vdw['Pantetheine'] = 'With P'\n",
    "tetp_Act_vdw['Polyketide'] = 'Tetraketide'\n",
    "tetp_Act_vdw['Mimic'] = 'Natural'\n",
    "\n",
    "df_Act_vdw = df_Act_vdw.append(tetp_Act_vdw,sort=False,ignore_index=True)"
   ]
  },
  {
   "cell_type": "code",
   "execution_count": 6,
   "metadata": {},
   "outputs": [],
   "source": [
    "tetp_Hed_P1 = pd.read_csv(basepath + 'HedKR-tetp-joel-parameter1.csv')\n",
    "tetp_Hed_P1['Pantetheine'] = 'With P'\n",
    "tetp_Hed_P1['Polyketide'] = 'Tetraketide'\n",
    "tetp_Hed_P1['Mimic'] = 'Natural'\n",
    "\n",
    "df_Hed_P1 = df_Hed_P1.append(tetp_Hed_P1,sort=False,ignore_index=True)\n",
    "\n",
    "tetp_Hed_P2 = pd.read_csv(basepath + 'HedKR-tetp-joel-parameter2.csv')\n",
    "tetp_Hed_P2['Pantetheine'] = 'With P'\n",
    "tetp_Hed_P2['Polyketide'] = 'Tetraketide'\n",
    "tetp_Hed_P2['Mimic'] = 'Natural'\n",
    "\n",
    "df_Hed_P2 = df_Hed_P2.append(tetp_Hed_P2,sort=False,ignore_index=True)\n",
    "\n",
    "tetp_Hed_vdw = pd.read_csv(basepath + 'HedKR-tetp-joel-vdw.csv')\n",
    "tetp_Hed_vdw['Pantetheine'] = 'With P'\n",
    "tetp_Hed_vdw['Polyketide'] = 'Tetraketide'\n",
    "tetp_Hed_vdw['Mimic'] = 'Natural'\n",
    "\n",
    "df_Hed_vdw = df_Hed_vdw.append(tetp_Hed_vdw,sort=False,ignore_index=True)"
   ]
  },
  {
   "cell_type": "markdown",
   "metadata": {},
   "source": [
    "### mtetpnop"
   ]
  },
  {
   "cell_type": "code",
   "execution_count": 7,
   "metadata": {},
   "outputs": [],
   "source": [
    "mtetpnop_Act_P1 = pd.read_csv(basepath + 'ActKR-mtetpnop-joel-parameter1.csv')\n",
    "mtetpnop_Act_P1['Pantetheine'] = 'Without P'\n",
    "mtetpnop_Act_P1['Polyketide'] = 'Tetraketide'\n",
    "mtetpnop_Act_P1['Mimic'] = 'Mimic'\n",
    "\n",
    "df_Act_P1 = df_Act_P1.append(mtetpnop_Act_P1,sort=False,ignore_index=True)\n",
    "\n",
    "mtetpnop_Act_P2 = pd.read_csv(basepath + 'ActKR-mtetpnop-joel-parameter2.csv')\n",
    "mtetpnop_Act_P2['Pantetheine'] = 'Without P'\n",
    "mtetpnop_Act_P2['Polyketide'] = 'Tetraketide'\n",
    "mtetpnop_Act_P2['Mimic'] = 'Mimic'\n",
    "\n",
    "df_Act_P2 = df_Act_P2.append(mtetpnop_Act_P2,sort=False,ignore_index=True)\n",
    "\n",
    "mtetpnop_Act_vdw = pd.read_csv(basepath + 'ActKR-mtetpnop-joel-vdw.csv')\n",
    "mtetpnop_Act_vdw['Pantetheine'] = 'Without P'\n",
    "mtetpnop_Act_vdw['Polyketide'] = 'Tetraketide'\n",
    "mtetpnop_Act_vdw['Mimic'] = 'Mimic'\n",
    "\n",
    "df_Act_vdw = df_Act_vdw.append(mtetpnop_Act_vdw,sort=False,ignore_index=True)"
   ]
  },
  {
   "cell_type": "code",
   "execution_count": 8,
   "metadata": {},
   "outputs": [],
   "source": [
    "mtetpnop_Hed_P1 = pd.read_csv(basepath + 'HedKR-mtetpnop-joel-parameter1.csv')\n",
    "mtetpnop_Hed_P1['Pantetheine'] = 'Without P'\n",
    "mtetpnop_Hed_P1['Polyketide'] = 'Tetraketide'\n",
    "mtetpnop_Hed_P1['Mimic'] = 'Mimic'\n",
    "\n",
    "df_Hed_P1 = df_Hed_P1.append(mtetpnop_Hed_P1,sort=False,ignore_index=True)\n",
    "\n",
    "mtetpnop_Hed_P2 = pd.read_csv(basepath + 'HedKR-mtetpnop-joel-parameter2.csv')\n",
    "mtetpnop_Hed_P2['Pantetheine'] = 'Without P'\n",
    "mtetpnop_Hed_P2['Polyketide'] = 'Tetraketide'\n",
    "mtetpnop_Hed_P2['Mimic'] = 'Mimic'\n",
    "\n",
    "df_Hed_P2 = df_Hed_P2.append(mtetpnop_Hed_P2,sort=False,ignore_index=True)\n",
    "\n",
    "mtetpnop_Hed_vdw = pd.read_csv(basepath + 'HedKR-mtetpnop-joel-vdw.csv')\n",
    "mtetpnop_Hed_vdw['Pantetheine'] = 'Without P'\n",
    "mtetpnop_Hed_vdw['Polyketide'] = 'Tetraketide'\n",
    "mtetpnop_Hed_vdw['Mimic'] = 'Mimic'\n",
    "\n",
    "df_Hed_vdw = df_Hed_vdw.append(mtetpnop_Hed_vdw,sort=False,ignore_index=True)"
   ]
  },
  {
   "cell_type": "markdown",
   "metadata": {},
   "source": [
    "### tetpnop"
   ]
  },
  {
   "cell_type": "code",
   "execution_count": 9,
   "metadata": {},
   "outputs": [],
   "source": [
    "tetpnop_Act_P1 = pd.read_csv(basepath + 'ActKR-tetpnop-joel-parameter1.csv')\n",
    "tetpnop_Act_P1['Pantetheine'] = 'Without P'\n",
    "tetpnop_Act_P1['Polyketide'] = 'Tetraketide'\n",
    "tetpnop_Act_P1['Mimic'] = 'Natural'\n",
    "\n",
    "df_Act_P1 = df_Act_P1.append(tetpnop_Act_P1,sort=False,ignore_index=True)\n",
    "\n",
    "tetpnop_Act_P2 = pd.read_csv(basepath + 'ActKR-tetpnop-joel-parameter2.csv')\n",
    "tetpnop_Act_P2['Pantetheine'] = 'Without P'\n",
    "tetpnop_Act_P2['Polyketide'] = 'Tetraketide'\n",
    "tetpnop_Act_P2['Mimic'] = 'Natural'\n",
    "\n",
    "df_Act_P2 = df_Act_P2.append(tetpnop_Act_P2,sort=False,ignore_index=True)\n",
    "\n",
    "tetpnop_Act_vdw = pd.read_csv(basepath + 'ActKR-tetpnop-joel-vdw.csv')\n",
    "tetpnop_Act_vdw['Pantetheine'] = 'Without P'\n",
    "tetpnop_Act_vdw['Polyketide'] = 'Tetraketide'\n",
    "tetpnop_Act_vdw['Mimic'] = 'Natural'\n",
    "\n",
    "df_Act_vdw = df_Act_vdw.append(tetpnop_Act_vdw,sort=False,ignore_index=True)"
   ]
  },
  {
   "cell_type": "code",
   "execution_count": 10,
   "metadata": {},
   "outputs": [],
   "source": [
    "tetpnop_Hed_P1 = pd.read_csv(basepath + 'HedKR-tetpnop-joel-parameter1.csv')\n",
    "tetpnop_Hed_P1['Pantetheine'] = 'Without P'\n",
    "tetpnop_Hed_P1['Polyketide'] = 'Tetraketide'\n",
    "tetpnop_Hed_P1['Mimic'] = 'Natural'\n",
    "\n",
    "df_Hed_P1 = df_Hed_P1.append(tetpnop_Hed_P1,sort=False,ignore_index=True)\n",
    "\n",
    "tetpnop_Hed_P2 = pd.read_csv(basepath + 'HedKR-tetpnop-joel-parameter2.csv')\n",
    "tetpnop_Hed_P2['Pantetheine'] = 'Without P'\n",
    "tetpnop_Hed_P2['Polyketide'] = 'Tetraketide'\n",
    "tetpnop_Hed_P2['Mimic'] = 'Natural'\n",
    "\n",
    "df_Hed_P2 = df_Hed_P2.append(tetpnop_Hed_P2,sort=False,ignore_index=True)\n",
    "\n",
    "tetpnop_Hed_vdw = pd.read_csv(basepath + 'HedKR-tetpnop-joel-vdw.csv')\n",
    "tetpnop_Hed_vdw['Pantetheine'] = 'Without P'\n",
    "tetpnop_Hed_vdw['Polyketide'] = 'Tetraketide'\n",
    "tetpnop_Hed_vdw['Mimic'] = 'Natural'\n",
    "\n",
    "df_Hed_vdw = df_Hed_vdw.append(tetpnop_Hed_vdw,sort=False,ignore_index=True)"
   ]
  },
  {
   "cell_type": "markdown",
   "metadata": {},
   "source": [
    "### moctp"
   ]
  },
  {
   "cell_type": "code",
   "execution_count": 11,
   "metadata": {},
   "outputs": [],
   "source": [
    "moctp_Act_P1 = pd.read_csv(basepath + 'ActKR-moctp-gabe-parameter1.csv')\n",
    "moctp_Act_P1['Pantetheine'] = 'With P'\n",
    "moctp_Act_P1['Polyketide'] = 'Octaketide'\n",
    "moctp_Act_P1['Mimic'] = 'Mimic'\n",
    "\n",
    "df_Act_P1 = df_Act_P1.append(moctp_Act_P1,sort=False,ignore_index=True)\n",
    "\n",
    "moctp_Act_P2 = pd.read_csv(basepath + 'ActKR-moctp-gabe-parameter2.csv')\n",
    "moctp_Act_P2['Pantetheine'] = 'With P'\n",
    "moctp_Act_P2['Polyketide'] = 'Octaketide'\n",
    "moctp_Act_P2['Mimic'] = 'Mimic'\n",
    "\n",
    "df_Act_P2 = df_Act_P2.append(moctp_Act_P2,sort=False,ignore_index=True)\n",
    "\n",
    "moctp_Act_vdw = pd.read_csv(basepath + 'ActKR-moctp-gabe-vdw.csv')\n",
    "moctp_Act_vdw['Pantetheine'] = 'With P'\n",
    "moctp_Act_vdw['Polyketide'] = 'Octaketide'\n",
    "moctp_Act_vdw['Mimic'] = 'Mimic'\n",
    "\n",
    "df_Act_vdw = df_Act_vdw.append(moctp_Act_vdw,sort=False,ignore_index=True)"
   ]
  },
  {
   "cell_type": "code",
   "execution_count": 12,
   "metadata": {},
   "outputs": [],
   "source": [
    "moctp_Hed_P1 = pd.read_csv(basepath + 'HedKR-moctp-align-parameter1.csv')\n",
    "moctp_Hed_P1['Pantetheine'] = 'With P'\n",
    "moctp_Hed_P1['Polyketide'] = 'Octaketide'\n",
    "moctp_Hed_P1['Mimic'] = 'Mimic'\n",
    "\n",
    "df_Hed_P1 = df_Hed_P1.append(moctp_Hed_P1,sort=False,ignore_index=True)\n",
    "\n",
    "moctp_Hed_P2 = pd.read_csv(basepath + 'HedKR-moctp-align-parameter2.csv')\n",
    "moctp_Hed_P2['Pantetheine'] = 'With P'\n",
    "moctp_Hed_P2['Polyketide'] = 'Octaketide'\n",
    "moctp_Hed_P2['Mimic'] = 'Mimic'\n",
    "\n",
    "df_Hed_P2 = df_Hed_P2.append(moctp_Hed_P2,sort=False,ignore_index=True)\n",
    "\n",
    "moctp_Hed_vdw = pd.read_csv(basepath + 'HedKR-moctp-align-vdw.csv')\n",
    "moctp_Hed_vdw['Pantetheine'] = 'With P'\n",
    "moctp_Hed_vdw['Polyketide'] = 'Octaketide'\n",
    "moctp_Hed_vdw['Mimic'] = 'Mimic'\n",
    "\n",
    "df_Hed_vdw = df_Hed_vdw.append(moctp_Hed_vdw,sort=False,ignore_index=True)"
   ]
  },
  {
   "cell_type": "markdown",
   "metadata": {},
   "source": [
    "### octp"
   ]
  },
  {
   "cell_type": "code",
   "execution_count": 13,
   "metadata": {},
   "outputs": [],
   "source": [
    "octp_Act_P1 = pd.read_csv(basepath + 'ActKR-octp-gabe-parameter1.csv')\n",
    "octp_Act_P1['Pantetheine'] = 'With P'\n",
    "octp_Act_P1['Polyketide'] = 'Octaketide'\n",
    "octp_Act_P1['Mimic'] = 'Natural'\n",
    "\n",
    "df_Act_P1 = df_Act_P1.append(octp_Act_P1,sort=False,ignore_index=True)\n",
    "\n",
    "octp_Act_P2 = pd.read_csv(basepath + 'ActKR-octp-gabe-parameter2.csv')\n",
    "octp_Act_P2['Pantetheine'] = 'With P'\n",
    "octp_Act_P2['Polyketide'] = 'Octaketide'\n",
    "octp_Act_P2['Mimic'] = 'Natural'\n",
    "\n",
    "df_Act_P2 = df_Act_P2.append(octp_Act_P2,sort=False,ignore_index=True)\n",
    "\n",
    "octp_Act_vdw = pd.read_csv(basepath + 'ActKR-octp-gabe-vdw.csv')\n",
    "octp_Act_vdw['Pantetheine'] = 'With P'\n",
    "octp_Act_vdw['Polyketide'] = 'Octaketide'\n",
    "octp_Act_vdw['Mimic'] = 'Natural'\n",
    "\n",
    "df_Act_vdw = df_Act_vdw.append(octp_Act_vdw,sort=False,ignore_index=True)"
   ]
  },
  {
   "cell_type": "code",
   "execution_count": 14,
   "metadata": {},
   "outputs": [],
   "source": [
    "octp_Hed_P1 = pd.read_csv(basepath + 'HedKR-octp-align-parameter1.csv')\n",
    "octp_Hed_P1['Pantetheine'] = 'With P'\n",
    "octp_Hed_P1['Polyketide'] = 'Octaketide'\n",
    "octp_Hed_P1['Mimic'] = 'Natural'\n",
    "\n",
    "df_Hed_P1 = df_Hed_P1.append(octp_Hed_P1,sort=False,ignore_index=True)\n",
    "\n",
    "octp_Hed_P2 = pd.read_csv(basepath + 'HedKR-octp-align-parameter2.csv')\n",
    "octp_Hed_P2['Pantetheine'] = 'With P'\n",
    "octp_Hed_P2['Polyketide'] = 'Octaketide'\n",
    "octp_Hed_P2['Mimic'] = 'Natural'\n",
    "\n",
    "df_Hed_P2 = df_Hed_P2.append(octp_Hed_P2,sort=False,ignore_index=True)\n",
    "\n",
    "octp_Hed_vdw = pd.read_csv(basepath + 'HedKR-octp-align-vdw.csv')\n",
    "octp_Hed_vdw['Pantetheine'] = 'With P'\n",
    "octp_Hed_vdw['Polyketide'] = 'Octaketide'\n",
    "octp_Hed_vdw['Mimic'] = 'Natural'\n",
    "\n",
    "df_Hed_vdw = df_Hed_vdw.append(octp_Hed_vdw,sort=False,ignore_index=True)"
   ]
  },
  {
   "cell_type": "markdown",
   "metadata": {},
   "source": [
    "### moctpnop"
   ]
  },
  {
   "cell_type": "code",
   "execution_count": 15,
   "metadata": {},
   "outputs": [],
   "source": [
    "moctpnop_Act_P1 = pd.read_csv(basepath + 'ActKR-moctpnop-gabe-parameter1.csv')\n",
    "moctpnop_Act_P1['Pantetheine'] = 'Without P'\n",
    "moctpnop_Act_P1['Polyketide'] = 'Octaketide'\n",
    "moctpnop_Act_P1['Mimic'] = 'Mimic'\n",
    "\n",
    "df_Act_P1 = df_Act_P1.append(moctpnop_Act_P1,sort=False,ignore_index=True)\n",
    "\n",
    "moctpnop_Act_P2 = pd.read_csv(basepath + 'ActKR-moctpnop-gabe-parameter2.csv')\n",
    "moctpnop_Act_P2['Pantetheine'] = 'Without P'\n",
    "moctpnop_Act_P2['Polyketide'] = 'Octaketide'\n",
    "moctpnop_Act_P2['Mimic'] = 'Mimic'\n",
    "\n",
    "df_Act_P2 = df_Act_P2.append(moctpnop_Act_P2,sort=False,ignore_index=True)\n",
    "\n",
    "moctpnop_Act_vdw = pd.read_csv(basepath + 'ActKR-moctpnop-gabe-vdw.csv')\n",
    "moctpnop_Act_vdw['Pantetheine'] = 'Without P'\n",
    "moctpnop_Act_vdw['Polyketide'] = 'Octaketide'\n",
    "moctpnop_Act_vdw['Mimic'] = 'Mimic'\n",
    "\n",
    "df_Act_vdw = df_Act_vdw.append(moctpnop_Act_vdw,sort=False,ignore_index=True)"
   ]
  },
  {
   "cell_type": "code",
   "execution_count": 16,
   "metadata": {},
   "outputs": [],
   "source": [
    "moctpnop_Hed_P1 = pd.read_csv(basepath + 'HedKR-moctpnop-align-parameter1.csv')\n",
    "moctpnop_Hed_P1['Pantetheine'] = 'Without P'\n",
    "moctpnop_Hed_P1['Polyketide'] = 'Octaketide'\n",
    "moctpnop_Hed_P1['Mimic'] = 'Mimic'\n",
    "\n",
    "df_Hed_P1 = df_Hed_P1.append(moctpnop_Hed_P1,sort=False,ignore_index=True)\n",
    "\n",
    "moctpnop_Hed_P2 = pd.read_csv(basepath + 'HedKR-moctpnop-align-parameter2.csv')\n",
    "moctpnop_Hed_P2['Pantetheine'] = 'Without P'\n",
    "moctpnop_Hed_P2['Polyketide'] = 'Octaketide'\n",
    "moctpnop_Hed_P2['Mimic'] = 'Mimic'\n",
    "\n",
    "df_Hed_P2 = df_Hed_P2.append(moctpnop_Hed_P2,sort=False,ignore_index=True)\n",
    "\n",
    "moctpnop_Hed_vdw = pd.read_csv(basepath + 'HedKR-moctpnop-align-vdw.csv')\n",
    "moctpnop_Hed_vdw['Pantetheine'] = 'Without P'\n",
    "moctpnop_Hed_vdw['Polyketide'] = 'Octaketide'\n",
    "moctpnop_Hed_vdw['Mimic'] = 'Mimic'\n",
    "\n",
    "df_Hed_vdw = df_Hed_vdw.append(moctpnop_Hed_vdw,sort=False,ignore_index=True)"
   ]
  },
  {
   "cell_type": "markdown",
   "metadata": {},
   "source": [
    "### octpnop"
   ]
  },
  {
   "cell_type": "code",
   "execution_count": 17,
   "metadata": {},
   "outputs": [],
   "source": [
    "octpnop_Act_P1 = pd.read_csv(basepath + 'ActKR-octpnop-gabe-parameter1.csv')\n",
    "octpnop_Act_P1['Pantetheine'] = 'Without P'\n",
    "octpnop_Act_P1['Polyketide'] = 'Octaketide'\n",
    "octpnop_Act_P1['Mimic'] = 'Natural'\n",
    "\n",
    "df_Act_P1 = df_Act_P1.append(octpnop_Act_P1,sort=False,ignore_index=True)\n",
    "\n",
    "octpnop_Act_P2 = pd.read_csv(basepath + 'ActKR-octpnop-gabe-parameter2.csv')\n",
    "octpnop_Act_P2['Pantetheine'] = 'Without P'\n",
    "octpnop_Act_P2['Polyketide'] = 'Octaketide'\n",
    "octpnop_Act_P2['Mimic'] = 'Natural'\n",
    "\n",
    "df_Act_P2 = df_Act_P2.append(octpnop_Act_P2,sort=False,ignore_index=True)\n",
    "\n",
    "octpnop_Act_vdw = pd.read_csv(basepath + 'ActKR-octpnop-gabe-vdw.csv')\n",
    "octpnop_Act_vdw['Pantetheine'] = 'Without P'\n",
    "octpnop_Act_vdw['Polyketide'] = 'Octaketide'\n",
    "octpnop_Act_vdw['Mimic'] = 'Natural'\n",
    "\n",
    "df_Act_vdw = df_Act_vdw.append(octpnop_Act_vdw,sort=False,ignore_index=True)"
   ]
  },
  {
   "cell_type": "code",
   "execution_count": 18,
   "metadata": {},
   "outputs": [],
   "source": [
    "octpnop_Hed_P1 = pd.read_csv(basepath + 'HedKR-octpnop-align-parameter1.csv')\n",
    "octpnop_Hed_P1['Pantetheine'] = 'Without P'\n",
    "octpnop_Hed_P1['Polyketide'] = 'Octaketide'\n",
    "octpnop_Hed_P1['Mimic'] = 'Natural'\n",
    "\n",
    "df_Hed_P1 = df_Hed_P1.append(octpnop_Hed_P1,sort=False,ignore_index=True)\n",
    "\n",
    "octpnop_Hed_P2 = pd.read_csv(basepath + 'HedKR-octpnop-align-parameter2.csv')\n",
    "octpnop_Hed_P2['Pantetheine'] = 'Without P'\n",
    "octpnop_Hed_P2['Polyketide'] = 'Octaketide'\n",
    "octpnop_Hed_P2['Mimic'] = 'Natural'\n",
    "\n",
    "df_Hed_P2 = df_Hed_P2.append(octpnop_Hed_P2,sort=False,ignore_index=True)\n",
    "\n",
    "octpnop_Hed_vdw = pd.read_csv(basepath + 'HedKR-octpnop-align-vdw.csv')\n",
    "octpnop_Hed_vdw['Pantetheine'] = 'Without P'\n",
    "octpnop_Hed_vdw['Polyketide'] = 'Octaketide'\n",
    "octpnop_Hed_vdw['Mimic'] = 'Natural'\n",
    "\n",
    "df_Hed_vdw = df_Hed_vdw.append(octpnop_Hed_vdw,sort=False,ignore_index=True)"
   ]
  },
  {
   "cell_type": "markdown",
   "metadata": {},
   "source": [
    "## P1 check"
   ]
  },
  {
   "cell_type": "code",
   "execution_count": 19,
   "metadata": {},
   "outputs": [
    {
     "name": "stdout",
     "output_type": "stream",
     "text": [
      "With P       800\n",
      "Without P    800\n",
      "Name: Pantetheine, dtype: int64\n",
      "\n",
      "Tetraketide    800\n",
      "Octaketide     800\n",
      "Name: Polyketide, dtype: int64\n",
      "\n",
      "Natural    800\n",
      "Mimic      800\n",
      "Name: Mimic, dtype: int64\n"
     ]
    }
   ],
   "source": [
    "print(df_Act_P1['Pantetheine'].value_counts())\n",
    "print()\n",
    "print(df_Act_P1['Polyketide'].value_counts())\n",
    "print()\n",
    "print(df_Act_P1['Mimic'].value_counts())"
   ]
  },
  {
   "cell_type": "code",
   "execution_count": 20,
   "metadata": {},
   "outputs": [
    {
     "name": "stdout",
     "output_type": "stream",
     "text": [
      "With P       800\n",
      "Without P    800\n",
      "Name: Pantetheine, dtype: int64\n",
      "\n",
      "Tetraketide    800\n",
      "Octaketide     800\n",
      "Name: Polyketide, dtype: int64\n",
      "\n",
      "Natural    800\n",
      "Mimic      800\n",
      "Name: Mimic, dtype: int64\n"
     ]
    }
   ],
   "source": [
    "print(df_Hed_P1['Pantetheine'].value_counts())\n",
    "print()\n",
    "print(df_Hed_P1['Polyketide'].value_counts())\n",
    "print()\n",
    "print(df_Hed_P1['Mimic'].value_counts())"
   ]
  },
  {
   "cell_type": "markdown",
   "metadata": {},
   "source": [
    "## P2 Check"
   ]
  },
  {
   "cell_type": "code",
   "execution_count": 21,
   "metadata": {},
   "outputs": [
    {
     "name": "stdout",
     "output_type": "stream",
     "text": [
      "With P       800\n",
      "Without P    800\n",
      "Name: Pantetheine, dtype: int64\n",
      "\n",
      "Tetraketide    800\n",
      "Octaketide     800\n",
      "Name: Polyketide, dtype: int64\n",
      "\n",
      "Natural    800\n",
      "Mimic      800\n",
      "Name: Mimic, dtype: int64\n"
     ]
    }
   ],
   "source": [
    "print(df_Act_P2['Pantetheine'].value_counts())\n",
    "print()\n",
    "print(df_Act_P2['Polyketide'].value_counts())\n",
    "print()\n",
    "print(df_Act_P2['Mimic'].value_counts())"
   ]
  },
  {
   "cell_type": "code",
   "execution_count": 22,
   "metadata": {},
   "outputs": [
    {
     "name": "stdout",
     "output_type": "stream",
     "text": [
      "With P       800\n",
      "Without P    800\n",
      "Name: Pantetheine, dtype: int64\n",
      "\n",
      "Tetraketide    800\n",
      "Octaketide     800\n",
      "Name: Polyketide, dtype: int64\n",
      "\n",
      "Natural    800\n",
      "Mimic      800\n",
      "Name: Mimic, dtype: int64\n"
     ]
    }
   ],
   "source": [
    "print(df_Hed_P2['Pantetheine'].value_counts())\n",
    "print()\n",
    "print(df_Hed_P2['Polyketide'].value_counts())\n",
    "print()\n",
    "print(df_Hed_P2['Mimic'].value_counts())"
   ]
  },
  {
   "cell_type": "markdown",
   "metadata": {},
   "source": [
    "## vdw Check"
   ]
  },
  {
   "cell_type": "code",
   "execution_count": 23,
   "metadata": {},
   "outputs": [
    {
     "name": "stdout",
     "output_type": "stream",
     "text": [
      "With P       800\n",
      "Without P    800\n",
      "Name: Pantetheine, dtype: int64\n",
      "\n",
      "Tetraketide    800\n",
      "Octaketide     800\n",
      "Name: Polyketide, dtype: int64\n",
      "\n",
      "Natural    800\n",
      "Mimic      800\n",
      "Name: Mimic, dtype: int64\n"
     ]
    }
   ],
   "source": [
    "print(df_Act_vdw['Pantetheine'].value_counts())\n",
    "print()\n",
    "print(df_Act_vdw['Polyketide'].value_counts())\n",
    "print()\n",
    "print(df_Act_vdw['Mimic'].value_counts())"
   ]
  },
  {
   "cell_type": "code",
   "execution_count": 24,
   "metadata": {},
   "outputs": [
    {
     "name": "stdout",
     "output_type": "stream",
     "text": [
      "With P       800\n",
      "Without P    800\n",
      "Name: Pantetheine, dtype: int64\n",
      "\n",
      "Tetraketide    800\n",
      "Octaketide     800\n",
      "Name: Polyketide, dtype: int64\n",
      "\n",
      "Natural    800\n",
      "Mimic      800\n",
      "Name: Mimic, dtype: int64\n"
     ]
    }
   ],
   "source": [
    "print(df_Hed_vdw['Pantetheine'].value_counts())\n",
    "print()\n",
    "print(df_Hed_vdw['Polyketide'].value_counts())\n",
    "print()\n",
    "print(df_Hed_vdw['Mimic'].value_counts())"
   ]
  },
  {
   "cell_type": "code",
   "execution_count": 25,
   "metadata": {},
   "outputs": [],
   "source": [
    "df_Act_P1 = df_Act_P1.rename(columns={\"DELTA TOTAL\":\"Energy\"})\n",
    "df_Act_P2 = df_Act_P2.rename(columns={\"DELTA TOTAL\":\"Energy\"})\n",
    "df_Act_vdw = df_Act_vdw.rename(columns={\"VDWAALS\":\"Energy\"})\n",
    "df_Hed_P1 = df_Hed_P1.rename(columns={\"DELTA TOTAL\":\"Energy\"})\n",
    "df_Hed_P2 = df_Hed_P2.rename(columns={\"DELTA TOTAL\":\"Energy\"})\n",
    "df_Hed_vdw = df_Hed_vdw.rename(columns={\"VDWAALS\":\"Energy\"})"
   ]
  },
  {
   "cell_type": "code",
   "execution_count": 26,
   "metadata": {},
   "outputs": [],
   "source": [
    "basepath2 = '/Users/shijizhao/Documents/Lab_Luo/Data/data4-mmpbsa-t-test/'\n",
    "\n",
    "df_Act_P1.to_csv(basepath2+'mmpbsa_anova_Act_P1.csv',index=False)\n",
    "df_Act_P2.to_csv(basepath2+'mmpbsa_anova_Act_P2.csv',index=False)\n",
    "df_Act_vdw.to_csv(basepath2+'mmpbsa_anova_Act_vdw.csv',index=False)\n",
    "df_Hed_P1.to_csv(basepath2+'mmpbsa_anova_Hed_P1.csv',index=False)\n",
    "df_Hed_P2.to_csv(basepath2+'mmpbsa_anova_Hed_P2.csv',index=False)\n",
    "df_Hed_vdw.to_csv(basepath2+'mmpbsa_anova_Hed_vdw.csv',index=False)"
   ]
  },
  {
   "cell_type": "code",
   "execution_count": null,
   "metadata": {},
   "outputs": [],
   "source": []
  },
  {
   "cell_type": "code",
   "execution_count": null,
   "metadata": {},
   "outputs": [],
   "source": []
  },
  {
   "cell_type": "code",
   "execution_count": null,
   "metadata": {},
   "outputs": [],
   "source": []
  },
  {
   "cell_type": "code",
   "execution_count": null,
   "metadata": {},
   "outputs": [],
   "source": []
  }
 ],
 "metadata": {
  "hide_input": false,
  "kernelspec": {
   "display_name": "Python 3",
   "language": "python",
   "name": "python3"
  },
  "language_info": {
   "codemirror_mode": {
    "name": "ipython",
    "version": 3
   },
   "file_extension": ".py",
   "mimetype": "text/x-python",
   "name": "python",
   "nbconvert_exporter": "python",
   "pygments_lexer": "ipython3",
   "version": "3.7.3"
  }
 },
 "nbformat": 4,
 "nbformat_minor": 2
}
